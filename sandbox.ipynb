{
 "cells": [
  {
   "cell_type": "code",
   "execution_count": 1,
   "id": "progressive-lobby",
   "metadata": {},
   "outputs": [],
   "source": [
    "s = '  '"
   ]
  },
  {
   "cell_type": "code",
   "execution_count": 2,
   "id": "bigger-barcelona",
   "metadata": {},
   "outputs": [
    {
     "data": {
      "text/plain": [
       "[]"
      ]
     },
     "execution_count": 2,
     "metadata": {},
     "output_type": "execute_result"
    }
   ],
   "source": [
    "s.split()"
   ]
  },
  {
   "cell_type": "code",
   "execution_count": 3,
   "id": "atlantic-essay",
   "metadata": {},
   "outputs": [
    {
     "data": {
      "text/plain": [
       "0"
      ]
     },
     "execution_count": 3,
     "metadata": {},
     "output_type": "execute_result"
    }
   ],
   "source": [
    "len(_)"
   ]
  },
  {
   "cell_type": "code",
   "execution_count": 4,
   "id": "amino-finnish",
   "metadata": {},
   "outputs": [
    {
     "data": {
      "text/plain": [
       "range(0, 0)"
      ]
     },
     "execution_count": 4,
     "metadata": {},
     "output_type": "execute_result"
    }
   ],
   "source": [
    "range(0)"
   ]
  },
  {
   "cell_type": "code",
   "execution_count": 5,
   "id": "spatial-television",
   "metadata": {},
   "outputs": [],
   "source": [
    "for i in range(0):\n",
    "    print(1)"
   ]
  },
  {
   "cell_type": "code",
   "execution_count": 7,
   "id": "awful-repair",
   "metadata": {},
   "outputs": [],
   "source": [
    "import numpy as np"
   ]
  },
  {
   "cell_type": "code",
   "execution_count": 8,
   "id": "robust-tower",
   "metadata": {},
   "outputs": [],
   "source": [
    "a= np.array(np.random.randn(10,10))"
   ]
  },
  {
   "cell_type": "code",
   "execution_count": 9,
   "id": "descending-perception",
   "metadata": {},
   "outputs": [
    {
     "data": {
      "text/plain": [
       "array([[-0.43918958, -1.16280901,  0.54481287, -2.19689001, -0.56636369,\n",
       "        -0.00511933,  0.25318473, -1.03280164, -0.80236459,  1.13635675],\n",
       "       [-0.49160359,  2.04269613,  1.62761589, -0.56623145,  1.58612237,\n",
       "        -0.74358801,  1.00760651, -0.21633514, -0.6726755 , -0.70453781],\n",
       "       [-2.55553365,  0.94082797, -1.55235282, -0.42448792,  0.41823496,\n",
       "        -1.39117674,  2.2894294 , -0.04029071, -0.87051669,  0.85552196],\n",
       "       [ 0.79470605, -0.99440579, -0.27040204, -0.30463979,  0.58833331,\n",
       "        -0.97119403,  0.61863767,  0.6150953 , -1.29116947, -1.21882108],\n",
       "       [ 0.15187611,  2.18145652,  0.48015237,  0.83180529, -0.07817476,\n",
       "        -1.56928055,  0.67229015, -0.02217517,  1.04194525,  0.54666166],\n",
       "       [ 0.48703542, -0.18584545, -0.28580765, -0.668138  ,  0.40117954,\n",
       "        -1.50466058,  1.34063663,  0.56108605,  0.72067249,  1.10607223],\n",
       "       [-0.06496713, -0.98978366, -1.08826802, -0.34637678, -1.15444857,\n",
       "         0.51511928,  0.93348717, -0.75577443,  0.82350405, -0.11137092],\n",
       "       [-1.09426604,  0.50120011, -0.75726087,  1.73664579, -0.32242426,\n",
       "        -1.14548141, -0.95831214, -0.62753589, -0.35197015, -0.02434909],\n",
       "       [ 0.32449942,  0.00493291,  0.79083334,  0.12735277,  0.6067405 ,\n",
       "         0.26979686,  1.0998416 , -0.58087944, -0.04972255, -0.40135196],\n",
       "       [-0.05944395, -1.80135123,  1.08235062, -0.27642348, -0.62543598,\n",
       "         0.37956638,  0.92469075,  0.93617197, -0.05191747,  0.27081662]])"
      ]
     },
     "execution_count": 9,
     "metadata": {},
     "output_type": "execute_result"
    }
   ],
   "source": [
    "a"
   ]
  },
  {
   "cell_type": "code",
   "execution_count": 10,
   "id": "celtic-cambodia",
   "metadata": {},
   "outputs": [
    {
     "data": {
      "text/plain": [
       "numpy.ndarray"
      ]
     },
     "execution_count": 10,
     "metadata": {},
     "output_type": "execute_result"
    }
   ],
   "source": [
    "\n",
    "type(a)"
   ]
  },
  {
   "cell_type": "code",
   "execution_count": 12,
   "id": "genetic-custom",
   "metadata": {},
   "outputs": [],
   "source": [
    "a = np.array([[1,0,1],[2,1,2]])"
   ]
  },
  {
   "cell_type": "code",
   "execution_count": 13,
   "id": "logical-joint",
   "metadata": {},
   "outputs": [
    {
     "data": {
      "text/plain": [
       "array([[1, 0, 1],\n",
       "       [2, 1, 2]])"
      ]
     },
     "execution_count": 13,
     "metadata": {},
     "output_type": "execute_result"
    }
   ],
   "source": [
    "a"
   ]
  },
  {
   "cell_type": "code",
   "execution_count": 15,
   "id": "gothic-median",
   "metadata": {},
   "outputs": [],
   "source": [
    "b = np.array([0,1,0])"
   ]
  },
  {
   "cell_type": "code",
   "execution_count": 16,
   "id": "exciting-belgium",
   "metadata": {},
   "outputs": [
    {
     "data": {
      "text/plain": [
       "array([0, 1, 0])"
      ]
     },
     "execution_count": 16,
     "metadata": {},
     "output_type": "execute_result"
    }
   ],
   "source": [
    "b"
   ]
  },
  {
   "cell_type": "code",
   "execution_count": 32,
   "id": "convinced-isaac",
   "metadata": {},
   "outputs": [],
   "source": [
    "b_upper = np.array(range(2,0,-1)).reshape(-1,1) "
   ]
  },
  {
   "cell_type": "code",
   "execution_count": 33,
   "id": "surface-balloon",
   "metadata": {},
   "outputs": [
    {
     "data": {
      "text/plain": [
       "array([[2],\n",
       "       [1]])"
      ]
     },
     "execution_count": 33,
     "metadata": {},
     "output_type": "execute_result"
    }
   ],
   "source": [
    "b_upper"
   ]
  },
  {
   "cell_type": "code",
   "execution_count": 35,
   "id": "treated-guyana",
   "metadata": {},
   "outputs": [],
   "source": [
    "b_upper = b_upper+ b"
   ]
  },
  {
   "cell_type": "code",
   "execution_count": 39,
   "id": "apparent-fighter",
   "metadata": {},
   "outputs": [],
   "source": [
    "new_upper = np.minimum(a,b_upper)"
   ]
  },
  {
   "cell_type": "code",
   "execution_count": 46,
   "id": "micro-trade",
   "metadata": {},
   "outputs": [
    {
     "data": {
      "text/plain": [
       "array([[1, 0, 1],\n",
       "       [1, 1, 1]])"
      ]
     },
     "execution_count": 46,
     "metadata": {},
     "output_type": "execute_result"
    }
   ],
   "source": [
    "new_upper"
   ]
  },
  {
   "cell_type": "code",
   "execution_count": 40,
   "id": "general-bandwidth",
   "metadata": {
    "scrolled": true
   },
   "outputs": [
    {
     "data": {
      "text/plain": [
       "array([0, 1, 0])"
      ]
     },
     "execution_count": 40,
     "metadata": {},
     "output_type": "execute_result"
    }
   ],
   "source": [
    "b"
   ]
  },
  {
   "cell_type": "code",
   "execution_count": 45,
   "id": "stuffed-council",
   "metadata": {},
   "outputs": [
    {
     "data": {
      "text/plain": [
       "array([[1, 0, 1],\n",
       "       [1, 1, 1],\n",
       "       [0, 1, 0]])"
      ]
     },
     "execution_count": 45,
     "metadata": {},
     "output_type": "execute_result"
    }
   ],
   "source": [
    "np.concatenate((new_upper,b.reshape(1,-1)), axis=0)"
   ]
  },
  {
   "cell_type": "code",
   "execution_count": 48,
   "id": "united-cleanup",
   "metadata": {},
   "outputs": [
    {
     "data": {
      "text/plain": [
       "array([0, 1, 0])"
      ]
     },
     "execution_count": 48,
     "metadata": {},
     "output_type": "execute_result"
    }
   ],
   "source": [
    "np.minimum(new_upper[-1,:]+1,b)"
   ]
  },
  {
   "cell_type": "code",
   "execution_count": 49,
   "id": "hispanic-pound",
   "metadata": {},
   "outputs": [
    {
     "data": {
      "text/plain": [
       "array([0, 1, 0])"
      ]
     },
     "execution_count": 49,
     "metadata": {},
     "output_type": "execute_result"
    }
   ],
   "source": [
    "b"
   ]
  },
  {
   "cell_type": "code",
   "execution_count": 51,
   "id": "toxic-defendant",
   "metadata": {},
   "outputs": [
    {
     "data": {
      "text/plain": [
       "False"
      ]
     },
     "execution_count": 51,
     "metadata": {},
     "output_type": "execute_result"
    }
   ],
   "source": [
    "(b>0).all()"
   ]
  },
  {
   "cell_type": "code",
   "execution_count": 52,
   "id": "hindu-emergency",
   "metadata": {},
   "outputs": [],
   "source": [
    "c = np.array([1,1,0,1,1,1,0,1,1,1,0])"
   ]
  },
  {
   "cell_type": "code",
   "execution_count": 53,
   "id": "beautiful-tennessee",
   "metadata": {},
   "outputs": [
    {
     "data": {
      "text/plain": [
       "array([[1, 0, 1],\n",
       "       [2, 1, 2]])"
      ]
     },
     "execution_count": 53,
     "metadata": {},
     "output_type": "execute_result"
    }
   ],
   "source": [
    "a"
   ]
  },
  {
   "cell_type": "code",
   "execution_count": 54,
   "id": "juvenile-divide",
   "metadata": {},
   "outputs": [
    {
     "data": {
      "text/plain": [
       "array([2, 1, 2])"
      ]
     },
     "execution_count": 54,
     "metadata": {},
     "output_type": "execute_result"
    }
   ],
   "source": [
    "a[-1]"
   ]
  },
  {
   "cell_type": "code",
   "execution_count": 55,
   "id": "billion-variable",
   "metadata": {},
   "outputs": [
    {
     "data": {
      "text/plain": [
       "array([2, 1, 2])"
      ]
     },
     "execution_count": 55,
     "metadata": {},
     "output_type": "execute_result"
    }
   ],
   "source": [
    "a[-1,:]"
   ]
  },
  {
   "cell_type": "code",
   "execution_count": 56,
   "id": "above-domestic",
   "metadata": {},
   "outputs": [
    {
     "data": {
      "text/plain": [
       "array([1, 1, 0, 1, 1, 1, 0, 1, 1, 1, 0])"
      ]
     },
     "execution_count": 56,
     "metadata": {},
     "output_type": "execute_result"
    }
   ],
   "source": [
    "c"
   ]
  },
  {
   "cell_type": "code",
   "execution_count": 57,
   "id": "important-tunnel",
   "metadata": {},
   "outputs": [
    {
     "data": {
      "text/plain": [
       "array([1, 1, 0, 1, 1, 1, 0, 1, 1, 1, 0])"
      ]
     },
     "execution_count": 57,
     "metadata": {},
     "output_type": "execute_result"
    }
   ],
   "source": [
    "c"
   ]
  },
  {
   "cell_type": "code",
   "execution_count": 61,
   "id": "contrary-dubai",
   "metadata": {},
   "outputs": [
    {
     "data": {
      "text/plain": [
       "array([ 1,  1,  0,  1,  1,  1,  0,  1,  1,  1,  0, 10])"
      ]
     },
     "execution_count": 61,
     "metadata": {},
     "output_type": "execute_result"
    }
   ],
   "source": [
    "np.append(c,[10])"
   ]
  },
  {
   "cell_type": "code",
   "execution_count": 62,
   "id": "powerful-billy",
   "metadata": {},
   "outputs": [
    {
     "data": {
      "text/plain": [
       "0"
      ]
     },
     "execution_count": 62,
     "metadata": {},
     "output_type": "execute_result"
    }
   ],
   "source": [
    "c[-1]"
   ]
  },
  {
   "cell_type": "code",
   "execution_count": null,
   "id": "known-devices",
   "metadata": {},
   "outputs": [],
   "source": [
    "d=10001"
   ]
  },
  {
   "cell_type": "code",
   "execution_count": null,
   "id": "interpreted-commerce",
   "metadata": {},
   "outputs": [],
   "source": [
    "np.minimum(c, range(c.shape,0,-1)+d)"
   ]
  },
  {
   "cell_type": "code",
   "execution_count": 63,
   "id": "unnecessary-korea",
   "metadata": {},
   "outputs": [
    {
     "data": {
      "text/plain": [
       "array([ 1,  1,  0,  1,  1,  1,  0,  1,  1,  1,  0, 10])"
      ]
     },
     "execution_count": 63,
     "metadata": {},
     "output_type": "execute_result"
    }
   ],
   "source": [
    "np.append(c,10)"
   ]
  },
  {
   "cell_type": "code",
   "execution_count": 64,
   "id": "promotional-verification",
   "metadata": {},
   "outputs": [
    {
     "data": {
      "text/plain": [
       "array([1, 1, 0, 1, 1, 1, 0, 1, 1, 1, 0])"
      ]
     },
     "execution_count": 64,
     "metadata": {},
     "output_type": "execute_result"
    }
   ],
   "source": [
    "c"
   ]
  },
  {
   "cell_type": "code",
   "execution_count": 70,
   "id": "played-agenda",
   "metadata": {},
   "outputs": [
    {
     "data": {
      "text/plain": [
       "array([ 1,  1,  0,  1,  1,  1,  0,  1,  1,  1,  0, 10])"
      ]
     },
     "execution_count": 70,
     "metadata": {},
     "output_type": "execute_result"
    }
   ],
   "source": [
    "np.append(c,10)"
   ]
  },
  {
   "cell_type": "code",
   "execution_count": 71,
   "id": "stainless-cabinet",
   "metadata": {},
   "outputs": [
    {
     "data": {
      "text/plain": [
       "range(1, 0, -1)"
      ]
     },
     "execution_count": 71,
     "metadata": {},
     "output_type": "execute_result"
    }
   ],
   "source": [
    "range(1,0,-1)"
   ]
  },
  {
   "cell_type": "code",
   "execution_count": 72,
   "id": "brief-costume",
   "metadata": {},
   "outputs": [
    {
     "data": {
      "text/plain": [
       "array([0])"
      ]
     },
     "execution_count": 72,
     "metadata": {},
     "output_type": "execute_result"
    }
   ],
   "source": [
    "np.minimum(np.array([0]), range(1,0,-1))"
   ]
  },
  {
   "cell_type": "code",
   "execution_count": 73,
   "id": "hired-singing",
   "metadata": {},
   "outputs": [
    {
     "data": {
      "text/plain": [
       "array([0, 1])"
      ]
     },
     "execution_count": 73,
     "metadata": {},
     "output_type": "execute_result"
    }
   ],
   "source": [
    "np.append(_,1)"
   ]
  },
  {
   "cell_type": "code",
   "execution_count": 74,
   "id": "cordless-minnesota",
   "metadata": {},
   "outputs": [
    {
     "data": {
      "text/plain": [
       "0"
      ]
     },
     "execution_count": 74,
     "metadata": {},
     "output_type": "execute_result"
    }
   ],
   "source": [
    "c[-1]"
   ]
  },
  {
   "cell_type": "code",
   "execution_count": 75,
   "id": "secret-horror",
   "metadata": {},
   "outputs": [],
   "source": [
    "rest = np.array(0)"
   ]
  },
  {
   "cell_type": "code",
   "execution_count": 76,
   "id": "minor-dylan",
   "metadata": {},
   "outputs": [
    {
     "data": {
      "text/plain": [
       "()"
      ]
     },
     "execution_count": 76,
     "metadata": {},
     "output_type": "execute_result"
    }
   ],
   "source": [
    "rest.shape"
   ]
  },
  {
   "cell_type": "code",
   "execution_count": 77,
   "id": "three-school",
   "metadata": {},
   "outputs": [
    {
     "data": {
      "text/plain": [
       "numpy.ndarray"
      ]
     },
     "execution_count": 77,
     "metadata": {},
     "output_type": "execute_result"
    }
   ],
   "source": [
    "type(rest)"
   ]
  },
  {
   "cell_type": "code",
   "execution_count": 78,
   "id": "radical-dominican",
   "metadata": {},
   "outputs": [
    {
     "data": {
      "text/plain": [
       "2"
      ]
     },
     "execution_count": 78,
     "metadata": {},
     "output_type": "execute_result"
    }
   ],
   "source": [
    "rest+2"
   ]
  },
  {
   "cell_type": "code",
   "execution_count": 79,
   "id": "earlier-departure",
   "metadata": {},
   "outputs": [
    {
     "data": {
      "text/plain": [
       "array([1, 1, 0, 1, 1, 1, 0, 1, 1, 1, 0])"
      ]
     },
     "execution_count": 79,
     "metadata": {},
     "output_type": "execute_result"
    }
   ],
   "source": [
    "c"
   ]
  },
  {
   "cell_type": "code",
   "execution_count": 80,
   "id": "comprehensive-boring",
   "metadata": {},
   "outputs": [
    {
     "ename": "TypeError",
     "evalue": "only integer scalar arrays can be converted to a scalar index",
     "output_type": "error",
     "traceback": [
      "\u001b[0;31m---------------------------------------------------------------------------\u001b[0m",
      "\u001b[0;31mTypeError\u001b[0m                                 Traceback (most recent call last)",
      "\u001b[0;32m<ipython-input-80-5d115ff7714c>\u001b[0m in \u001b[0;36m<module>\u001b[0;34m\u001b[0m\n\u001b[0;32m----> 1\u001b[0;31m \u001b[0mc\u001b[0m\u001b[0;34m.\u001b[0m\u001b[0margmin\u001b[0m\u001b[0;34m(\u001b[0m\u001b[0mc\u001b[0m\u001b[0;34m==\u001b[0m\u001b[0;36m0\u001b[0m\u001b[0;34m)\u001b[0m\u001b[0;34m\u001b[0m\u001b[0;34m\u001b[0m\u001b[0m\n\u001b[0m",
      "\u001b[0;31mTypeError\u001b[0m: only integer scalar arrays can be converted to a scalar index"
     ]
    }
   ],
   "source": [
    "c.argmin(c==0)"
   ]
  },
  {
   "cell_type": "code",
   "execution_count": 85,
   "id": "recent-beads",
   "metadata": {},
   "outputs": [
    {
     "data": {
      "text/plain": [
       "(array([ 2,  6, 10]),)"
      ]
     },
     "execution_count": 85,
     "metadata": {},
     "output_type": "execute_result"
    }
   ],
   "source": [
    "np.where(c==0)"
   ]
  },
  {
   "cell_type": "code",
   "execution_count": 89,
   "id": "illegal-penny",
   "metadata": {},
   "outputs": [
    {
     "data": {
      "text/plain": [
       "(11,)"
      ]
     },
     "execution_count": 89,
     "metadata": {},
     "output_type": "execute_result"
    }
   ],
   "source": [
    "c.shape"
   ]
  },
  {
   "cell_type": "code",
   "execution_count": 90,
   "id": "tracked-repository",
   "metadata": {},
   "outputs": [],
   "source": [
    "c[0:3]=range(2,-1,-1)"
   ]
  },
  {
   "cell_type": "code",
   "execution_count": 91,
   "id": "occasional-roads",
   "metadata": {},
   "outputs": [
    {
     "data": {
      "text/plain": [
       "array([2, 1, 0, 1, 1, 1, 0, 1, 1, 1, 0])"
      ]
     },
     "execution_count": 91,
     "metadata": {},
     "output_type": "execute_result"
    }
   ],
   "source": [
    "c"
   ]
  },
  {
   "cell_type": "code",
   "execution_count": 92,
   "id": "processed-republican",
   "metadata": {},
   "outputs": [
    {
     "data": {
      "text/plain": [
       "array([[1, 0, 1],\n",
       "       [2, 1, 2]])"
      ]
     },
     "execution_count": 92,
     "metadata": {},
     "output_type": "execute_result"
    }
   ],
   "source": [
    "a"
   ]
  },
  {
   "cell_type": "code",
   "execution_count": 93,
   "id": "durable-practitioner",
   "metadata": {},
   "outputs": [
    {
     "data": {
      "text/plain": [
       "(2, 3)"
      ]
     },
     "execution_count": 93,
     "metadata": {},
     "output_type": "execute_result"
    }
   ],
   "source": [
    "a.shape\n"
   ]
  },
  {
   "cell_type": "code",
   "execution_count": 94,
   "id": "changed-cigarette",
   "metadata": {},
   "outputs": [],
   "source": [
    "m, n = a.shape"
   ]
  },
  {
   "cell_type": "code",
   "execution_count": 95,
   "id": "manufactured-indonesia",
   "metadata": {},
   "outputs": [
    {
     "data": {
      "text/plain": [
       "2"
      ]
     },
     "execution_count": 95,
     "metadata": {},
     "output_type": "execute_result"
    }
   ],
   "source": [
    "m"
   ]
  },
  {
   "cell_type": "code",
   "execution_count": 96,
   "id": "recorded-times",
   "metadata": {},
   "outputs": [
    {
     "data": {
      "text/plain": [
       "3"
      ]
     },
     "execution_count": 96,
     "metadata": {},
     "output_type": "execute_result"
    }
   ],
   "source": [
    "n"
   ]
  },
  {
   "cell_type": "code",
   "execution_count": 98,
   "id": "reflected-dodge",
   "metadata": {},
   "outputs": [
    {
     "data": {
      "text/plain": [
       "False"
      ]
     },
     "execution_count": 98,
     "metadata": {},
     "output_type": "execute_result"
    }
   ],
   "source": [
    "(a>0).all()"
   ]
  },
  {
   "cell_type": "code",
   "execution_count": null,
   "id": "strange-translation",
   "metadata": {},
   "outputs": [],
   "source": []
  }
 ],
 "metadata": {
  "kernelspec": {
   "display_name": "Python 3",
   "language": "python",
   "name": "python3"
  },
  "language_info": {
   "codemirror_mode": {
    "name": "ipython",
    "version": 3
   },
   "file_extension": ".py",
   "mimetype": "text/x-python",
   "name": "python",
   "nbconvert_exporter": "python",
   "pygments_lexer": "ipython3",
   "version": "3.8.3"
  }
 },
 "nbformat": 4,
 "nbformat_minor": 5
}
