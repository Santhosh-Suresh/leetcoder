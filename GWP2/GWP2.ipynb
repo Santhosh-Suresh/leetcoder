{
 "cells": [
  {
   "cell_type": "markdown",
   "metadata": {},
   "source": [
    "This document is the Part 3 of the GWP 2 for Group 868 of MScFe 600"
   ]
  },
  {
   "cell_type": "code",
   "execution_count": 18,
   "metadata": {},
   "outputs": [],
   "source": [
    "import pandas as pd\n",
    "import numpy as np \n",
    "from datetime import datetime"
   ]
  },
  {
   "cell_type": "code",
   "execution_count": 3,
   "metadata": {},
   "outputs": [
    {
     "data": {
      "text/plain": [
       "'\\nWe consider 3 types of mortgages here - \\n\\n30 year fixed = type A\\n20 year fixed = type B\\n7 -1 ARM  = type C\\n\\n\\nWe represent all 3 mortgages using a data frame , which is equivalent to  an excel table\\n'"
      ]
     },
     "execution_count": 3,
     "metadata": {},
     "output_type": "execute_result"
    }
   ],
   "source": [
    "\"\"\"\n",
    "We consider 3 types of mortgages here - \n",
    "\n",
    "30 year fixed = type A\n",
    "20 year fixed = type B\n",
    "7 -1 ARM  = type C\n",
    "\n",
    "\n",
    "We represent all 3 mortgages using a data frame , which is equivalent to  an excel table\n",
    "\"\"\""
   ]
  },
  {
   "cell_type": "code",
   "execution_count": 4,
   "metadata": {},
   "outputs": [],
   "source": [
    "def amortizer(loan_amount: int, interest_rate: float, loan_term: int) -> pd.DataFrame: \n",
    "    # fixed payment calculation\n",
    "    monthly_interest_rate = interest_rate / 12\n",
    "    number_of_payments = loan_term * 12\n",
    "    fixed_payment = loan_amount * (monthly_interest_rate * (1 + monthly_interest_rate) ** number_of_payments) / (((1 + monthly_interest_rate) ** number_of_payments) - 1)\n",
    "\n",
    "    # create empty dataframe\n",
    "    amortization_schedule = pd.DataFrame(columns=[\"month_number\", \"fixed_payment\", \"principal_pay_down\", \"interest_applied\", \"new_principal_balance\"])\n",
    "\n",
    "    # populate dataframe\n",
    "    current_balance = loan_amount\n",
    "    amortization_schedule = amortization_schedule.append({\"month_number\": 0, \"fixed_payment\": 0, \n",
    "                                                              \"principal_pay_down\": 0, \"interest_applied\": 0, \n",
    "                                                              \"new_principal_balance\": loan_amount}, ignore_index=True)\n",
    "    for month in range(1, number_of_payments + 1):\n",
    "        interest_applied = current_balance * monthly_interest_rate\n",
    "        principal_pay_down = fixed_payment - interest_applied\n",
    "        new_principal_balance = current_balance - principal_pay_down\n",
    "        amortization_schedule = amortization_schedule.append({\"month_number\": month, \"fixed_payment\": fixed_payment, \n",
    "                                                              \"principal_pay_down\": principal_pay_down, \"interest_applied\": interest_applied, \n",
    "                                                              \"new_principal_balance\": new_principal_balance}, ignore_index=True)\n",
    "        current_balance = new_principal_balance\n",
    "\n",
    "    # display amortization schedule\n",
    "    amortization_schedule.astype({'month_number':'int32'})\n",
    "    amortization_schedule.set_index('month_number', drop=True, inplace= True )\n",
    "\n",
    "    return amortization_schedule"
   ]
  },
  {
   "cell_type": "code",
   "execution_count": 5,
   "metadata": {},
   "outputs": [
    {
     "data": {
      "text/html": [
       "<div>\n",
       "<style scoped>\n",
       "    .dataframe tbody tr th:only-of-type {\n",
       "        vertical-align: middle;\n",
       "    }\n",
       "\n",
       "    .dataframe tbody tr th {\n",
       "        vertical-align: top;\n",
       "    }\n",
       "\n",
       "    .dataframe thead th {\n",
       "        text-align: right;\n",
       "    }\n",
       "</style>\n",
       "<table border=\"1\" class=\"dataframe\">\n",
       "  <thead>\n",
       "    <tr style=\"text-align: right;\">\n",
       "      <th></th>\n",
       "      <th>fixed_payment</th>\n",
       "      <th>principal_pay_down</th>\n",
       "      <th>interest_applied</th>\n",
       "      <th>new_principal_balance</th>\n",
       "    </tr>\n",
       "    <tr>\n",
       "      <th>month_number</th>\n",
       "      <th></th>\n",
       "      <th></th>\n",
       "      <th></th>\n",
       "      <th></th>\n",
       "    </tr>\n",
       "  </thead>\n",
       "  <tbody>\n",
       "    <tr>\n",
       "      <th>0.0</th>\n",
       "      <td>0</td>\n",
       "      <td>0</td>\n",
       "      <td>0</td>\n",
       "      <td>200000</td>\n",
       "    </tr>\n",
       "    <tr>\n",
       "      <th>1.0</th>\n",
       "      <td>954.830591</td>\n",
       "      <td>288.163924</td>\n",
       "      <td>666.666667</td>\n",
       "      <td>199711.836076</td>\n",
       "    </tr>\n",
       "    <tr>\n",
       "      <th>2.0</th>\n",
       "      <td>954.830591</td>\n",
       "      <td>289.124471</td>\n",
       "      <td>665.70612</td>\n",
       "      <td>199422.711605</td>\n",
       "    </tr>\n",
       "    <tr>\n",
       "      <th>3.0</th>\n",
       "      <td>954.830591</td>\n",
       "      <td>290.088219</td>\n",
       "      <td>664.742372</td>\n",
       "      <td>199132.623386</td>\n",
       "    </tr>\n",
       "    <tr>\n",
       "      <th>4.0</th>\n",
       "      <td>954.830591</td>\n",
       "      <td>291.05518</td>\n",
       "      <td>663.775411</td>\n",
       "      <td>198841.568206</td>\n",
       "    </tr>\n",
       "    <tr>\n",
       "      <th>...</th>\n",
       "      <td>...</td>\n",
       "      <td>...</td>\n",
       "      <td>...</td>\n",
       "      <td>...</td>\n",
       "    </tr>\n",
       "    <tr>\n",
       "      <th>356.0</th>\n",
       "      <td>954.830591</td>\n",
       "      <td>939.074657</td>\n",
       "      <td>15.755934</td>\n",
       "      <td>3787.705631</td>\n",
       "    </tr>\n",
       "    <tr>\n",
       "      <th>357.0</th>\n",
       "      <td>954.830591</td>\n",
       "      <td>942.204905</td>\n",
       "      <td>12.625685</td>\n",
       "      <td>2845.500725</td>\n",
       "    </tr>\n",
       "    <tr>\n",
       "      <th>358.0</th>\n",
       "      <td>954.830591</td>\n",
       "      <td>945.345589</td>\n",
       "      <td>9.485002</td>\n",
       "      <td>1900.155137</td>\n",
       "    </tr>\n",
       "    <tr>\n",
       "      <th>359.0</th>\n",
       "      <td>954.830591</td>\n",
       "      <td>948.49674</td>\n",
       "      <td>6.33385</td>\n",
       "      <td>951.658396</td>\n",
       "    </tr>\n",
       "    <tr>\n",
       "      <th>360.0</th>\n",
       "      <td>954.830591</td>\n",
       "      <td>951.658396</td>\n",
       "      <td>3.172195</td>\n",
       "      <td>0.0</td>\n",
       "    </tr>\n",
       "  </tbody>\n",
       "</table>\n",
       "<p>361 rows × 4 columns</p>\n",
       "</div>"
      ],
      "text/plain": [
       "             fixed_payment principal_pay_down interest_applied  \\\n",
       "month_number                                                     \n",
       "0.0                      0                  0                0   \n",
       "1.0             954.830591         288.163924       666.666667   \n",
       "2.0             954.830591         289.124471        665.70612   \n",
       "3.0             954.830591         290.088219       664.742372   \n",
       "4.0             954.830591          291.05518       663.775411   \n",
       "...                    ...                ...              ...   \n",
       "356.0           954.830591         939.074657        15.755934   \n",
       "357.0           954.830591         942.204905        12.625685   \n",
       "358.0           954.830591         945.345589         9.485002   \n",
       "359.0           954.830591          948.49674          6.33385   \n",
       "360.0           954.830591         951.658396         3.172195   \n",
       "\n",
       "             new_principal_balance  \n",
       "month_number                        \n",
       "0.0                         200000  \n",
       "1.0                  199711.836076  \n",
       "2.0                  199422.711605  \n",
       "3.0                  199132.623386  \n",
       "4.0                  198841.568206  \n",
       "...                            ...  \n",
       "356.0                  3787.705631  \n",
       "357.0                  2845.500725  \n",
       "358.0                  1900.155137  \n",
       "359.0                   951.658396  \n",
       "360.0                          0.0  \n",
       "\n",
       "[361 rows x 4 columns]"
      ]
     },
     "execution_count": 5,
     "metadata": {},
     "output_type": "execute_result"
    }
   ],
   "source": [
    "# mortgage information for Mortgage A \n",
    "loan_amount = 200000\n",
    "interest_rate = 0.04\n",
    "loan_term = 30\n",
    "\n",
    "\n",
    "mortgageA = amortizer(loan_amount, interest_rate, loan_term) \n",
    "\n",
    "mortgageA"
   ]
  },
  {
   "cell_type": "code",
   "execution_count": 6,
   "metadata": {},
   "outputs": [
    {
     "data": {
      "text/plain": [
       "fixed_payment             343739.012735\n",
       "principal_pay_down             200000.0\n",
       "interest_applied          143739.012735\n",
       "new_principal_balance    43121703.82054\n",
       "dtype: object"
      ]
     },
     "execution_count": 6,
     "metadata": {},
     "output_type": "execute_result"
    }
   ],
   "source": [
    "mortgageA.sum()"
   ]
  },
  {
   "cell_type": "markdown",
   "metadata": {},
   "source": [
    "Approximately 143.7k  is the total interest paid over the 30 years and the monthly fixed payment is $955"
   ]
  },
  {
   "cell_type": "code",
   "execution_count": 7,
   "metadata": {},
   "outputs": [
    {
     "data": {
      "text/html": [
       "<div>\n",
       "<style scoped>\n",
       "    .dataframe tbody tr th:only-of-type {\n",
       "        vertical-align: middle;\n",
       "    }\n",
       "\n",
       "    .dataframe tbody tr th {\n",
       "        vertical-align: top;\n",
       "    }\n",
       "\n",
       "    .dataframe thead th {\n",
       "        text-align: right;\n",
       "    }\n",
       "</style>\n",
       "<table border=\"1\" class=\"dataframe\">\n",
       "  <thead>\n",
       "    <tr style=\"text-align: right;\">\n",
       "      <th></th>\n",
       "      <th>fixed_payment</th>\n",
       "      <th>principal_pay_down</th>\n",
       "      <th>interest_applied</th>\n",
       "      <th>new_principal_balance</th>\n",
       "    </tr>\n",
       "    <tr>\n",
       "      <th>month_number</th>\n",
       "      <th></th>\n",
       "      <th></th>\n",
       "      <th></th>\n",
       "      <th></th>\n",
       "    </tr>\n",
       "  </thead>\n",
       "  <tbody>\n",
       "    <tr>\n",
       "      <th>0.0</th>\n",
       "      <td>0</td>\n",
       "      <td>0</td>\n",
       "      <td>0</td>\n",
       "      <td>200000</td>\n",
       "    </tr>\n",
       "    <tr>\n",
       "      <th>1.0</th>\n",
       "      <td>1059.805786</td>\n",
       "      <td>643.139119</td>\n",
       "      <td>416.666667</td>\n",
       "      <td>199356.860881</td>\n",
       "    </tr>\n",
       "    <tr>\n",
       "      <th>2.0</th>\n",
       "      <td>1059.805786</td>\n",
       "      <td>644.478993</td>\n",
       "      <td>415.326794</td>\n",
       "      <td>198712.381888</td>\n",
       "    </tr>\n",
       "    <tr>\n",
       "      <th>3.0</th>\n",
       "      <td>1059.805786</td>\n",
       "      <td>645.821657</td>\n",
       "      <td>413.984129</td>\n",
       "      <td>198066.560231</td>\n",
       "    </tr>\n",
       "    <tr>\n",
       "      <th>4.0</th>\n",
       "      <td>1059.805786</td>\n",
       "      <td>647.167119</td>\n",
       "      <td>412.638667</td>\n",
       "      <td>197419.393112</td>\n",
       "    </tr>\n",
       "    <tr>\n",
       "      <th>...</th>\n",
       "      <td>...</td>\n",
       "      <td>...</td>\n",
       "      <td>...</td>\n",
       "      <td>...</td>\n",
       "    </tr>\n",
       "    <tr>\n",
       "      <th>236.0</th>\n",
       "      <td>1059.805786</td>\n",
       "      <td>1048.834806</td>\n",
       "      <td>10.97098</td>\n",
       "      <td>4217.23552</td>\n",
       "    </tr>\n",
       "    <tr>\n",
       "      <th>237.0</th>\n",
       "      <td>1059.805786</td>\n",
       "      <td>1051.019879</td>\n",
       "      <td>8.785907</td>\n",
       "      <td>3166.215641</td>\n",
       "    </tr>\n",
       "    <tr>\n",
       "      <th>238.0</th>\n",
       "      <td>1059.805786</td>\n",
       "      <td>1053.209503</td>\n",
       "      <td>6.596283</td>\n",
       "      <td>2113.006138</td>\n",
       "    </tr>\n",
       "    <tr>\n",
       "      <th>239.0</th>\n",
       "      <td>1059.805786</td>\n",
       "      <td>1055.40369</td>\n",
       "      <td>4.402096</td>\n",
       "      <td>1057.602448</td>\n",
       "    </tr>\n",
       "    <tr>\n",
       "      <th>240.0</th>\n",
       "      <td>1059.805786</td>\n",
       "      <td>1057.602448</td>\n",
       "      <td>2.203338</td>\n",
       "      <td>0.0</td>\n",
       "    </tr>\n",
       "  </tbody>\n",
       "</table>\n",
       "<p>241 rows × 4 columns</p>\n",
       "</div>"
      ],
      "text/plain": [
       "             fixed_payment principal_pay_down interest_applied  \\\n",
       "month_number                                                     \n",
       "0.0                      0                  0                0   \n",
       "1.0            1059.805786         643.139119       416.666667   \n",
       "2.0            1059.805786         644.478993       415.326794   \n",
       "3.0            1059.805786         645.821657       413.984129   \n",
       "4.0            1059.805786         647.167119       412.638667   \n",
       "...                    ...                ...              ...   \n",
       "236.0          1059.805786        1048.834806         10.97098   \n",
       "237.0          1059.805786        1051.019879         8.785907   \n",
       "238.0          1059.805786        1053.209503         6.596283   \n",
       "239.0          1059.805786         1055.40369         4.402096   \n",
       "240.0          1059.805786        1057.602448         2.203338   \n",
       "\n",
       "             new_principal_balance  \n",
       "month_number                        \n",
       "0.0                         200000  \n",
       "1.0                  199356.860881  \n",
       "2.0                  198712.381888  \n",
       "3.0                  198066.560231  \n",
       "4.0                  197419.393112  \n",
       "...                            ...  \n",
       "236.0                   4217.23552  \n",
       "237.0                  3166.215641  \n",
       "238.0                  2113.006138  \n",
       "239.0                  1057.602448  \n",
       "240.0                          0.0  \n",
       "\n",
       "[241 rows x 4 columns]"
      ]
     },
     "execution_count": 7,
     "metadata": {},
     "output_type": "execute_result"
    }
   ],
   "source": [
    "# mortgage information for Mortgage B \n",
    "loan_amount = 200000\n",
    "interest_rate = 0.025\n",
    "loan_term = 20\n",
    "\n",
    "\n",
    "mortgageB = amortizer(loan_amount, interest_rate, loan_term) \n",
    "\n",
    "mortgageB"
   ]
  },
  {
   "cell_type": "code",
   "execution_count": 8,
   "metadata": {
    "scrolled": true
   },
   "outputs": [
    {
     "data": {
      "text/plain": [
       "fixed_payment              254353.388655\n",
       "principal_pay_down              200000.0\n",
       "interest_applied            54353.388655\n",
       "new_principal_balance    26089626.554627\n",
       "dtype: object"
      ]
     },
     "execution_count": 8,
     "metadata": {},
     "output_type": "execute_result"
    }
   ],
   "source": [
    "mortgageB.sum()"
   ]
  },
  {
   "cell_type": "markdown",
   "metadata": {},
   "source": [
    "Approximately 54.3k  is the total interest paid over the 20 years and the monthly fixed payment is ~$1060"
   ]
  },
  {
   "cell_type": "markdown",
   "metadata": {},
   "source": [
    "# 7- 1 ARM "
   ]
  },
  {
   "cell_type": "code",
   "execution_count": 9,
   "metadata": {},
   "outputs": [],
   "source": [
    "interest_rates = pd.read_csv('MORTGAGE30US.csv')"
   ]
  },
  {
   "cell_type": "code",
   "execution_count": 10,
   "metadata": {},
   "outputs": [
    {
     "data": {
      "text/html": [
       "<div>\n",
       "<style scoped>\n",
       "    .dataframe tbody tr th:only-of-type {\n",
       "        vertical-align: middle;\n",
       "    }\n",
       "\n",
       "    .dataframe tbody tr th {\n",
       "        vertical-align: top;\n",
       "    }\n",
       "\n",
       "    .dataframe thead th {\n",
       "        text-align: right;\n",
       "    }\n",
       "</style>\n",
       "<table border=\"1\" class=\"dataframe\">\n",
       "  <thead>\n",
       "    <tr style=\"text-align: right;\">\n",
       "      <th></th>\n",
       "      <th>Unnamed: 0</th>\n",
       "      <th>DATE</th>\n",
       "      <th>MORTGAGE30US</th>\n",
       "      <th>Unnamed: 3</th>\n",
       "      <th>Unnamed: 4</th>\n",
       "      <th>Position</th>\n",
       "      <th>Rates</th>\n",
       "    </tr>\n",
       "  </thead>\n",
       "  <tbody>\n",
       "    <tr>\n",
       "      <th>0</th>\n",
       "      <td>1</td>\n",
       "      <td>April 2, 1971</td>\n",
       "      <td>7.33</td>\n",
       "      <td>NaN</td>\n",
       "      <td>Start</td>\n",
       "      <td>1549.0</td>\n",
       "      <td>7.65</td>\n",
       "    </tr>\n",
       "    <tr>\n",
       "      <th>1</th>\n",
       "      <td>2</td>\n",
       "      <td>April 9, 1971</td>\n",
       "      <td>7.31</td>\n",
       "      <td>NaN</td>\n",
       "      <td>NaN</td>\n",
       "      <td>1550.0</td>\n",
       "      <td>7.54</td>\n",
       "    </tr>\n",
       "    <tr>\n",
       "      <th>2</th>\n",
       "      <td>3</td>\n",
       "      <td>April 16, 1971</td>\n",
       "      <td>7.31</td>\n",
       "      <td>NaN</td>\n",
       "      <td>NaN</td>\n",
       "      <td>1551.0</td>\n",
       "      <td>7.42</td>\n",
       "    </tr>\n",
       "    <tr>\n",
       "      <th>3</th>\n",
       "      <td>4</td>\n",
       "      <td>April 23, 1971</td>\n",
       "      <td>7.31</td>\n",
       "      <td>NaN</td>\n",
       "      <td>NaN</td>\n",
       "      <td>1552.0</td>\n",
       "      <td>7.17</td>\n",
       "    </tr>\n",
       "    <tr>\n",
       "      <th>4</th>\n",
       "      <td>5</td>\n",
       "      <td>April 30, 1971</td>\n",
       "      <td>7.29</td>\n",
       "      <td>NaN</td>\n",
       "      <td>NaN</td>\n",
       "      <td>1553.0</td>\n",
       "      <td>7.13</td>\n",
       "    </tr>\n",
       "    <tr>\n",
       "      <th>...</th>\n",
       "      <td>...</td>\n",
       "      <td>...</td>\n",
       "      <td>...</td>\n",
       "      <td>...</td>\n",
       "      <td>...</td>\n",
       "      <td>...</td>\n",
       "      <td>...</td>\n",
       "    </tr>\n",
       "    <tr>\n",
       "      <th>2667</th>\n",
       "      <td>2668</td>\n",
       "      <td>May 12, 2022</td>\n",
       "      <td>5.30</td>\n",
       "      <td>NaN</td>\n",
       "      <td>NaN</td>\n",
       "      <td>NaN</td>\n",
       "      <td>NaN</td>\n",
       "    </tr>\n",
       "    <tr>\n",
       "      <th>2668</th>\n",
       "      <td>2669</td>\n",
       "      <td>May 19, 2022</td>\n",
       "      <td>5.25</td>\n",
       "      <td>NaN</td>\n",
       "      <td>NaN</td>\n",
       "      <td>NaN</td>\n",
       "      <td>NaN</td>\n",
       "    </tr>\n",
       "    <tr>\n",
       "      <th>2669</th>\n",
       "      <td>2670</td>\n",
       "      <td>May 26, 2022</td>\n",
       "      <td>5.10</td>\n",
       "      <td>NaN</td>\n",
       "      <td>NaN</td>\n",
       "      <td>NaN</td>\n",
       "      <td>NaN</td>\n",
       "    </tr>\n",
       "    <tr>\n",
       "      <th>2670</th>\n",
       "      <td>2671</td>\n",
       "      <td>June 2, 2022</td>\n",
       "      <td>5.09</td>\n",
       "      <td>NaN</td>\n",
       "      <td>NaN</td>\n",
       "      <td>NaN</td>\n",
       "      <td>NaN</td>\n",
       "    </tr>\n",
       "    <tr>\n",
       "      <th>2671</th>\n",
       "      <td>2672</td>\n",
       "      <td>June 9, 2022</td>\n",
       "      <td>5.23</td>\n",
       "      <td>NaN</td>\n",
       "      <td>NaN</td>\n",
       "      <td>NaN</td>\n",
       "      <td>NaN</td>\n",
       "    </tr>\n",
       "  </tbody>\n",
       "</table>\n",
       "<p>2672 rows × 7 columns</p>\n",
       "</div>"
      ],
      "text/plain": [
       "      Unnamed: 0            DATE  MORTGAGE30US  Unnamed: 3 Unnamed: 4  \\\n",
       "0              1   April 2, 1971          7.33         NaN      Start   \n",
       "1              2   April 9, 1971          7.31         NaN        NaN   \n",
       "2              3  April 16, 1971          7.31         NaN        NaN   \n",
       "3              4  April 23, 1971          7.31         NaN        NaN   \n",
       "4              5  April 30, 1971          7.29         NaN        NaN   \n",
       "...          ...             ...           ...         ...        ...   \n",
       "2667        2668    May 12, 2022          5.30         NaN        NaN   \n",
       "2668        2669    May 19, 2022          5.25         NaN        NaN   \n",
       "2669        2670    May 26, 2022          5.10         NaN        NaN   \n",
       "2670        2671    June 2, 2022          5.09         NaN        NaN   \n",
       "2671        2672    June 9, 2022          5.23         NaN        NaN   \n",
       "\n",
       "      Position  Rates  \n",
       "0       1549.0   7.65  \n",
       "1       1550.0   7.54  \n",
       "2       1551.0   7.42  \n",
       "3       1552.0   7.17  \n",
       "4       1553.0   7.13  \n",
       "...        ...    ...  \n",
       "2667       NaN    NaN  \n",
       "2668       NaN    NaN  \n",
       "2669       NaN    NaN  \n",
       "2670       NaN    NaN  \n",
       "2671       NaN    NaN  \n",
       "\n",
       "[2672 rows x 7 columns]"
      ]
     },
     "execution_count": 10,
     "metadata": {},
     "output_type": "execute_result"
    }
   ],
   "source": [
    "interest_rates"
   ]
  },
  {
   "cell_type": "code",
   "execution_count": 12,
   "metadata": {},
   "outputs": [
    {
     "data": {
      "text/plain": [
       "'\\n# For the purpose of this exercise we chose from Jan 1 1991 to Dec 31 2020 as the 30 year period of this 7-1 ARM \\n\\n\\n## We further assume as follows, \\n\\nThe interest rate for the first 7 years will be the most recent interest rate as of Jan 1st 1991\\n\\nThe interest for each subsequent year will bt eh most recent interest rate of Jan 1st of the 1998, and so on \\n'"
      ]
     },
     "execution_count": 12,
     "metadata": {},
     "output_type": "execute_result"
    }
   ],
   "source": [
    "\"\"\"\n",
    "# For the purpose of this exercise we chose from Jan 1 1991 to Dec 31 2020 as the 30 year period of this 7-1 ARM \n",
    "\n",
    "\n",
    "## We further assume as follows, \n",
    "\n",
    "The interest rate for the first 7 years will be the most recent interest rate as of Jan 1st 1991\n",
    "\n",
    "The interest for each subsequent year will bt eh most recent interest rate of Jan 1st of the 1998, and so on \n",
    "\"\"\""
   ]
  },
  {
   "cell_type": "code",
   "execution_count": 15,
   "metadata": {},
   "outputs": [
    {
     "data": {
      "text/plain": [
       "Unnamed: 0        int64\n",
       "DATE             object\n",
       "MORTGAGE30US    float64\n",
       "Unnamed: 3      float64\n",
       "Unnamed: 4       object\n",
       "Position        float64\n",
       "Rates           float64\n",
       "dtype: object"
      ]
     },
     "execution_count": 15,
     "metadata": {},
     "output_type": "execute_result"
    }
   ],
   "source": [
    "#now we calculate the interest rate for Year 1, Year 8 through Year 30 . \n",
    "\n",
    "interest_rates.dtypes"
   ]
  },
  {
   "cell_type": "code",
   "execution_count": 16,
   "metadata": {},
   "outputs": [],
   "source": [
    "interest_rates = interest_rates[['DATE', 'MORTGAGE30US']]"
   ]
  },
  {
   "cell_type": "code",
   "execution_count": 19,
   "metadata": {},
   "outputs": [
    {
     "name": "stderr",
     "output_type": "stream",
     "text": [
      "C:\\Users\\santh\\AppData\\Roaming\\Python\\Python37\\site-packages\\pandas\\core\\generic.py:5516: SettingWithCopyWarning: \n",
      "A value is trying to be set on a copy of a slice from a DataFrame.\n",
      "Try using .loc[row_indexer,col_indexer] = value instead\n",
      "\n",
      "See the caveats in the documentation: https://pandas.pydata.org/pandas-docs/stable/user_guide/indexing.html#returning-a-view-versus-a-copy\n",
      "  self[name] = value\n"
     ]
    }
   ],
   "source": [
    "interest_rates.DATE = pd.to_datetime(interest_rates.DATE)"
   ]
  },
  {
   "cell_type": "code",
   "execution_count": 20,
   "metadata": {
    "scrolled": true
   },
   "outputs": [
    {
     "data": {
      "text/html": [
       "<div>\n",
       "<style scoped>\n",
       "    .dataframe tbody tr th:only-of-type {\n",
       "        vertical-align: middle;\n",
       "    }\n",
       "\n",
       "    .dataframe tbody tr th {\n",
       "        vertical-align: top;\n",
       "    }\n",
       "\n",
       "    .dataframe thead th {\n",
       "        text-align: right;\n",
       "    }\n",
       "</style>\n",
       "<table border=\"1\" class=\"dataframe\">\n",
       "  <thead>\n",
       "    <tr style=\"text-align: right;\">\n",
       "      <th></th>\n",
       "      <th>DATE</th>\n",
       "      <th>MORTGAGE30US</th>\n",
       "    </tr>\n",
       "  </thead>\n",
       "  <tbody>\n",
       "    <tr>\n",
       "      <th>0</th>\n",
       "      <td>1971-04-02</td>\n",
       "      <td>7.33</td>\n",
       "    </tr>\n",
       "    <tr>\n",
       "      <th>1</th>\n",
       "      <td>1971-04-09</td>\n",
       "      <td>7.31</td>\n",
       "    </tr>\n",
       "    <tr>\n",
       "      <th>2</th>\n",
       "      <td>1971-04-16</td>\n",
       "      <td>7.31</td>\n",
       "    </tr>\n",
       "    <tr>\n",
       "      <th>3</th>\n",
       "      <td>1971-04-23</td>\n",
       "      <td>7.31</td>\n",
       "    </tr>\n",
       "    <tr>\n",
       "      <th>4</th>\n",
       "      <td>1971-04-30</td>\n",
       "      <td>7.29</td>\n",
       "    </tr>\n",
       "    <tr>\n",
       "      <th>...</th>\n",
       "      <td>...</td>\n",
       "      <td>...</td>\n",
       "    </tr>\n",
       "    <tr>\n",
       "      <th>2667</th>\n",
       "      <td>2022-05-12</td>\n",
       "      <td>5.30</td>\n",
       "    </tr>\n",
       "    <tr>\n",
       "      <th>2668</th>\n",
       "      <td>2022-05-19</td>\n",
       "      <td>5.25</td>\n",
       "    </tr>\n",
       "    <tr>\n",
       "      <th>2669</th>\n",
       "      <td>2022-05-26</td>\n",
       "      <td>5.10</td>\n",
       "    </tr>\n",
       "    <tr>\n",
       "      <th>2670</th>\n",
       "      <td>2022-06-02</td>\n",
       "      <td>5.09</td>\n",
       "    </tr>\n",
       "    <tr>\n",
       "      <th>2671</th>\n",
       "      <td>2022-06-09</td>\n",
       "      <td>5.23</td>\n",
       "    </tr>\n",
       "  </tbody>\n",
       "</table>\n",
       "<p>2672 rows × 2 columns</p>\n",
       "</div>"
      ],
      "text/plain": [
       "           DATE  MORTGAGE30US\n",
       "0    1971-04-02          7.33\n",
       "1    1971-04-09          7.31\n",
       "2    1971-04-16          7.31\n",
       "3    1971-04-23          7.31\n",
       "4    1971-04-30          7.29\n",
       "...         ...           ...\n",
       "2667 2022-05-12          5.30\n",
       "2668 2022-05-19          5.25\n",
       "2669 2022-05-26          5.10\n",
       "2670 2022-06-02          5.09\n",
       "2671 2022-06-09          5.23\n",
       "\n",
       "[2672 rows x 2 columns]"
      ]
     },
     "execution_count": 20,
     "metadata": {},
     "output_type": "execute_result"
    }
   ],
   "source": [
    "interest_rates"
   ]
  },
  {
   "cell_type": "code",
   "execution_count": 25,
   "metadata": {},
   "outputs": [],
   "source": [
    "years = [1991] + list(range(1998,2021))\n",
    "#we pick a 7 year ARM where we need to change interest rates from years 1 through 7 "
   ]
  },
  {
   "cell_type": "code",
   "execution_count": 26,
   "metadata": {
    "collapsed": true
   },
   "outputs": [
    {
     "data": {
      "text/plain": [
       "[1991,\n",
       " 1998,\n",
       " 1999,\n",
       " 2000,\n",
       " 2001,\n",
       " 2002,\n",
       " 2003,\n",
       " 2004,\n",
       " 2005,\n",
       " 2006,\n",
       " 2007,\n",
       " 2008,\n",
       " 2009,\n",
       " 2010,\n",
       " 2011,\n",
       " 2012,\n",
       " 2013,\n",
       " 2014,\n",
       " 2015,\n",
       " 2016,\n",
       " 2017,\n",
       " 2018,\n",
       " 2019,\n",
       " 2020]"
      ]
     },
     "execution_count": 26,
     "metadata": {},
     "output_type": "execute_result"
    }
   ],
   "source": [
    "years"
   ]
  },
  {
   "cell_type": "code",
   "execution_count": 33,
   "metadata": {
    "collapsed": true
   },
   "outputs": [
    {
     "name": "stderr",
     "output_type": "stream",
     "text": [
      "C:\\ProgramData\\Anaconda3\\lib\\site-packages\\ipykernel_launcher.py:1: SettingWithCopyWarning: \n",
      "A value is trying to be set on a copy of a slice from a DataFrame.\n",
      "Try using .loc[row_indexer,col_indexer] = value instead\n",
      "\n",
      "See the caveats in the documentation: https://pandas.pydata.org/pandas-docs/stable/user_guide/indexing.html#returning-a-view-versus-a-copy\n",
      "  \"\"\"Entry point for launching an IPython kernel.\n",
      "C:\\ProgramData\\Anaconda3\\lib\\site-packages\\ipykernel_launcher.py:2: SettingWithCopyWarning: \n",
      "A value is trying to be set on a copy of a slice from a DataFrame.\n",
      "Try using .loc[row_indexer,col_indexer] = value instead\n",
      "\n",
      "See the caveats in the documentation: https://pandas.pydata.org/pandas-docs/stable/user_guide/indexing.html#returning-a-view-versus-a-copy\n",
      "  \n",
      "C:\\ProgramData\\Anaconda3\\lib\\site-packages\\ipykernel_launcher.py:3: SettingWithCopyWarning: \n",
      "A value is trying to be set on a copy of a slice from a DataFrame.\n",
      "Try using .loc[row_indexer,col_indexer] = value instead\n",
      "\n",
      "See the caveats in the documentation: https://pandas.pydata.org/pandas-docs/stable/user_guide/indexing.html#returning-a-view-versus-a-copy\n",
      "  This is separate from the ipykernel package so we can avoid doing imports until\n"
     ]
    }
   ],
   "source": [
    "interest_rates['year']= interest_rates.DATE.dt.year\n",
    "interest_rates['month'] = interest_rates.DATE.dt.month\n",
    "interest_rates['day'] = interest_rates.DATE.dt.day\n"
   ]
  },
  {
   "cell_type": "code",
   "execution_count": 44,
   "metadata": {},
   "outputs": [],
   "source": [
    "annual_rates = interest_rates.loc[interest_rates[(interest_rates.year.isin(years)) & (interest_rates.month == 1)].groupby(by=['year'])['day'].idxmin()]"
   ]
  },
  {
   "cell_type": "code",
   "execution_count": 47,
   "metadata": {},
   "outputs": [],
   "source": [
    "rates_to_consider = annual_rates[['year','MORTGAGE30US']]"
   ]
  },
  {
   "cell_type": "code",
   "execution_count": 61,
   "metadata": {},
   "outputs": [],
   "source": [
    " annual_rates_final = pd.concat([rates_to_consider, pd.DataFrame([[i, 9.56] for i in range(1992,1998)], columns= ['year', 'MORTGAGE30US'])]).sort_values(by='year').reset_index(drop=True)"
   ]
  },
  {
   "cell_type": "code",
   "execution_count": 68,
   "metadata": {},
   "outputs": [],
   "source": [
    "annual_rates_final.rename(columns = {'MORTGAGE30US':'rate'}, inplace=True)"
   ]
  },
  {
   "cell_type": "code",
   "execution_count": 83,
   "metadata": {},
   "outputs": [],
   "source": [
    "def arm_payments(annual_rates_final, loan_amount):\n",
    "    # create empty lists to store the results\n",
    "    payments = [0]\n",
    "    principal_pay_down = [0]\n",
    "    interest_applied = [0]\n",
    "    new_principal_balance = [loan_amount]\n",
    "    \n",
    "    # loop over the number of years\n",
    "    for i in range(30*12):\n",
    "            year = (i)//12\n",
    "            rate = annual_rates_final.loc[year,'rate']/12/100\n",
    "            term = 30*12-i\n",
    "            fixed_payment = new_principal_balance[-1] * (rate * (1 + rate) ** term) / (((1 + rate) ** term) - 1)\n",
    "            payments.append(fixed_payment)\n",
    "            interest = rate * new_principal_balance[-1]\n",
    "            interest_applied.append(interest)\n",
    "            principal = fixed_payment - interest\n",
    "            principal_pay_down.append(principal)\n",
    "            new_principal_balance.append(new_principal_balance[-1]-principal)\n",
    "            \n",
    "    # create a new dataframe to store the results\n",
    "    df = pd.DataFrame({'fixed_payment': payments,\n",
    "                      'principal_pay_down': principal_pay_down,\n",
    "                      'interest_applied': interest_applied,\n",
    "                      'new_principal_balance': new_principal_balance})\n",
    "    return df"
   ]
  },
  {
   "cell_type": "code",
   "execution_count": 76,
   "metadata": {},
   "outputs": [
    {
     "data": {
      "text/plain": [
       "200000"
      ]
     },
     "execution_count": 76,
     "metadata": {},
     "output_type": "execute_result"
    }
   ],
   "source": [
    "loan_amount"
   ]
  },
  {
   "cell_type": "code",
   "execution_count": 84,
   "metadata": {
    "scrolled": true
   },
   "outputs": [
    {
     "data": {
      "text/html": [
       "<div>\n",
       "<style scoped>\n",
       "    .dataframe tbody tr th:only-of-type {\n",
       "        vertical-align: middle;\n",
       "    }\n",
       "\n",
       "    .dataframe tbody tr th {\n",
       "        vertical-align: top;\n",
       "    }\n",
       "\n",
       "    .dataframe thead th {\n",
       "        text-align: right;\n",
       "    }\n",
       "</style>\n",
       "<table border=\"1\" class=\"dataframe\">\n",
       "  <thead>\n",
       "    <tr style=\"text-align: right;\">\n",
       "      <th></th>\n",
       "      <th>fixed_payment</th>\n",
       "      <th>principal_pay_down</th>\n",
       "      <th>interest_applied</th>\n",
       "      <th>new_principal_balance</th>\n",
       "    </tr>\n",
       "  </thead>\n",
       "  <tbody>\n",
       "    <tr>\n",
       "      <th>0</th>\n",
       "      <td>0.000000</td>\n",
       "      <td>0.000000</td>\n",
       "      <td>0.000000</td>\n",
       "      <td>2.000000e+05</td>\n",
       "    </tr>\n",
       "    <tr>\n",
       "      <th>1</th>\n",
       "      <td>1690.470705</td>\n",
       "      <td>97.137372</td>\n",
       "      <td>1593.333333</td>\n",
       "      <td>1.999029e+05</td>\n",
       "    </tr>\n",
       "    <tr>\n",
       "      <th>2</th>\n",
       "      <td>1690.470705</td>\n",
       "      <td>97.911233</td>\n",
       "      <td>1592.559472</td>\n",
       "      <td>1.998050e+05</td>\n",
       "    </tr>\n",
       "    <tr>\n",
       "      <th>3</th>\n",
       "      <td>1690.470705</td>\n",
       "      <td>98.691259</td>\n",
       "      <td>1591.779446</td>\n",
       "      <td>1.997063e+05</td>\n",
       "    </tr>\n",
       "    <tr>\n",
       "      <th>4</th>\n",
       "      <td>1690.470705</td>\n",
       "      <td>99.477499</td>\n",
       "      <td>1590.993206</td>\n",
       "      <td>1.996068e+05</td>\n",
       "    </tr>\n",
       "    <tr>\n",
       "      <th>...</th>\n",
       "      <td>...</td>\n",
       "      <td>...</td>\n",
       "      <td>...</td>\n",
       "      <td>...</td>\n",
       "    </tr>\n",
       "    <tr>\n",
       "      <th>356</th>\n",
       "      <td>1163.953245</td>\n",
       "      <td>1146.078548</td>\n",
       "      <td>17.874698</td>\n",
       "      <td>4.619953e+03</td>\n",
       "    </tr>\n",
       "    <tr>\n",
       "      <th>357</th>\n",
       "      <td>1163.953245</td>\n",
       "      <td>1149.631391</td>\n",
       "      <td>14.321854</td>\n",
       "      <td>3.470322e+03</td>\n",
       "    </tr>\n",
       "    <tr>\n",
       "      <th>358</th>\n",
       "      <td>1163.953245</td>\n",
       "      <td>1153.195249</td>\n",
       "      <td>10.757997</td>\n",
       "      <td>2.317126e+03</td>\n",
       "    </tr>\n",
       "    <tr>\n",
       "      <th>359</th>\n",
       "      <td>1163.953245</td>\n",
       "      <td>1156.770154</td>\n",
       "      <td>7.183092</td>\n",
       "      <td>1.160356e+03</td>\n",
       "    </tr>\n",
       "    <tr>\n",
       "      <th>360</th>\n",
       "      <td>1163.953245</td>\n",
       "      <td>1160.356141</td>\n",
       "      <td>3.597104</td>\n",
       "      <td>3.842615e-11</td>\n",
       "    </tr>\n",
       "  </tbody>\n",
       "</table>\n",
       "<p>361 rows × 4 columns</p>\n",
       "</div>"
      ],
      "text/plain": [
       "     fixed_payment  principal_pay_down  interest_applied  \\\n",
       "0         0.000000            0.000000          0.000000   \n",
       "1      1690.470705           97.137372       1593.333333   \n",
       "2      1690.470705           97.911233       1592.559472   \n",
       "3      1690.470705           98.691259       1591.779446   \n",
       "4      1690.470705           99.477499       1590.993206   \n",
       "..             ...                 ...               ...   \n",
       "356    1163.953245         1146.078548         17.874698   \n",
       "357    1163.953245         1149.631391         14.321854   \n",
       "358    1163.953245         1153.195249         10.757997   \n",
       "359    1163.953245         1156.770154          7.183092   \n",
       "360    1163.953245         1160.356141          3.597104   \n",
       "\n",
       "     new_principal_balance  \n",
       "0             2.000000e+05  \n",
       "1             1.999029e+05  \n",
       "2             1.998050e+05  \n",
       "3             1.997063e+05  \n",
       "4             1.996068e+05  \n",
       "..                     ...  \n",
       "356           4.619953e+03  \n",
       "357           3.470322e+03  \n",
       "358           2.317126e+03  \n",
       "359           1.160356e+03  \n",
       "360           3.842615e-11  \n",
       "\n",
       "[361 rows x 4 columns]"
      ]
     },
     "execution_count": 84,
     "metadata": {},
     "output_type": "execute_result"
    }
   ],
   "source": [
    "arm_payments(annual_rates_final, loan_amount)"
   ]
  }
 ],
 "metadata": {
  "kernelspec": {
   "display_name": "Python 3",
   "language": "python",
   "name": "python3"
  },
  "language_info": {
   "codemirror_mode": {
    "name": "ipython",
    "version": 3
   },
   "file_extension": ".py",
   "mimetype": "text/x-python",
   "name": "python",
   "nbconvert_exporter": "python",
   "pygments_lexer": "ipython3",
   "version": "3.7.6"
  }
 },
 "nbformat": 4,
 "nbformat_minor": 4
}
