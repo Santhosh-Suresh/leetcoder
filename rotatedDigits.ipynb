{
 "cells": [
  {
   "cell_type": "markdown",
   "id": "b99755f9",
   "metadata": {
    "toc": true
   },
   "source": [
    "<h1>Table of Contents<span class=\"tocSkip\"></span></h1>\n",
    "<div class=\"toc\"><ul class=\"toc-item\"></ul></div>"
   ]
  },
  {
   "cell_type": "code",
   "execution_count": 1,
   "id": "6b2e4e21",
   "metadata": {
    "ExecuteTime": {
     "end_time": "2021-04-28T12:55:25.310773Z",
     "start_time": "2021-04-28T12:55:25.305777Z"
    }
   },
   "outputs": [],
   "source": [
    "from typing import List"
   ]
  },
  {
   "cell_type": "code",
   "execution_count": 25,
   "id": "dd03f46e",
   "metadata": {
    "ExecuteTime": {
     "end_time": "2021-04-28T13:01:22.761641Z",
     "start_time": "2021-04-28T13:01:22.742666Z"
    }
   },
   "outputs": [],
   "source": [
    "class Solution:\n",
    "    def rotatedDigits(self, N: int) -> int:\n",
    "        same= [0,1,8]\n",
    "        fill = [0,1,8, 2,5, 6, 9]\n",
    "        s= str(N)\n",
    "        n = len(s)\n",
    "        \n",
    "        good_numbers= [0,0,1,1,1,2,3,3,3,4] # no. of rotatable numbers <= N that don't give the same number \n",
    "        very_good_numbers= [1,2,2,2,2,2,2,2,3,3] # no. of rotatable numbers <= N that give the exact same number \n",
    "        all_good_numbers = [] #no. of all rotatable numbers<= N\n",
    "        for i in range(len(good_numbers)):\n",
    "                all_good_numbers.\\\n",
    "                append(good_numbers[i]+very_good_numbers[i])\n",
    "        \n",
    "        return (self.count_numbers(s,all_good_numbers,7,fill) - \n",
    "                self.count_numbers(s,very_good_numbers,3,same))\n",
    "    def count_numbers(self, s, l,m, carrier ):\n",
    "            n = len(s)\n",
    "            f = int(s[0])\n",
    "            \n",
    "            if n==0:\n",
    "                return \"Error\"\n",
    "            if n==1:\n",
    "                return l[f]\n",
    "            elif f==0:\n",
    "                self.count_numbers(s[1:],l,m, carrier)\n",
    "            else:\n",
    "                total = (l[f-1]* m**(n-1))\n",
    "                if (f) in carrier:\n",
    "                        total += self.count_numbers(s[1:],l,m, carrier)\n",
    "                return total"
   ]
  },
  {
   "cell_type": "code",
   "execution_count": 12,
   "id": "3dfd05e6",
   "metadata": {
    "ExecuteTime": {
     "end_time": "2021-04-28T12:57:10.399748Z",
     "start_time": "2021-04-28T12:57:10.382747Z"
    }
   },
   "outputs": [],
   "source": [
    "same= [0,1,8]\n",
    "fill = [0,1,8, 2,5, 6, 9]"
   ]
  },
  {
   "cell_type": "code",
   "execution_count": 11,
   "id": "a5440959",
   "metadata": {
    "ExecuteTime": {
     "end_time": "2021-04-28T12:56:47.902748Z",
     "start_time": "2021-04-28T12:56:47.886757Z"
    }
   },
   "outputs": [],
   "source": [
    "good_numbers= [0,0,1,1,1,2,3,3,3,4] # no. of rotatable numbers <= N that don't give the same number \n",
    "very_good_numbers= [1,2,2,2,2,2,2,2,3,3] # no. of rotatable numbers <= N that give the exact same number \n",
    "all_good_numbers = [] #no. of all rotatable numbers<= N\n",
    "for i in range(len(good_numbers)):\n",
    "        all_good_numbers.\\\n",
    "        append(good_numbers[i]+very_good_numbers[i])"
   ]
  },
  {
   "cell_type": "code",
   "execution_count": 26,
   "id": "fb874c87",
   "metadata": {
    "ExecuteTime": {
     "end_time": "2021-04-28T13:01:24.555642Z",
     "start_time": "2021-04-28T13:01:24.542651Z"
    }
   },
   "outputs": [],
   "source": [
    "a = Solution()"
   ]
  },
  {
   "cell_type": "code",
   "execution_count": 21,
   "id": "1acebfb6",
   "metadata": {
    "ExecuteTime": {
     "end_time": "2021-04-28T12:59:11.089809Z",
     "start_time": "2021-04-28T12:59:11.070828Z"
    }
   },
   "outputs": [
    {
     "name": "stdout",
     "output_type": "stream",
     "text": [
      "7 245\n",
      "7 18\n"
     ]
    },
    {
     "data": {
      "text/plain": [
       "227"
      ]
     },
     "execution_count": 21,
     "metadata": {},
     "output_type": "execute_result"
    }
   ],
   "source": [
    "a.rotatedDigits(857)"
   ]
  },
  {
   "cell_type": "code",
   "execution_count": 31,
   "id": "eb19e59d",
   "metadata": {
    "ExecuteTime": {
     "end_time": "2021-04-28T13:02:37.581621Z",
     "start_time": "2021-04-28T13:02:37.574625Z"
    }
   },
   "outputs": [
    {
     "name": "stdout",
     "output_type": "stream",
     "text": [
      "4 147\n",
      "0 7\n"
     ]
    },
    {
     "data": {
      "text/plain": [
       "157"
      ]
     },
     "execution_count": 31,
     "metadata": {},
     "output_type": "execute_result"
    }
   ],
   "source": [
    "a.count_numbers('502',all_good_numbers,7,fill)"
   ]
  },
  {
   "cell_type": "code",
   "execution_count": 32,
   "id": "7e0ee952",
   "metadata": {
    "ExecuteTime": {
     "end_time": "2021-04-28T13:02:42.624632Z",
     "start_time": "2021-04-28T13:02:42.606644Z"
    }
   },
   "outputs": [
    {
     "name": "stdout",
     "output_type": "stream",
     "text": [
      "0 7\n"
     ]
    },
    {
     "data": {
      "text/plain": [
       "10"
      ]
     },
     "execution_count": 32,
     "metadata": {},
     "output_type": "execute_result"
    }
   ],
   "source": [
    "a.count_numbers('02',all_good_numbers,7,fill)"
   ]
  },
  {
   "cell_type": "code",
   "execution_count": 33,
   "id": "0a2e0d5c",
   "metadata": {
    "ExecuteTime": {
     "end_time": "2021-04-28T13:02:59.377603Z",
     "start_time": "2021-04-28T13:02:59.358616Z"
    }
   },
   "outputs": [
    {
     "data": {
      "text/plain": [
       "3"
      ]
     },
     "execution_count": 33,
     "metadata": {},
     "output_type": "execute_result"
    }
   ],
   "source": [
    "a.count_numbers('2',all_good_numbers,7,fill)"
   ]
  },
  {
   "cell_type": "code",
   "execution_count": 30,
   "id": "201e7a7c",
   "metadata": {
    "ExecuteTime": {
     "end_time": "2021-04-28T13:02:02.269637Z",
     "start_time": "2021-04-28T13:02:02.254650Z"
    }
   },
   "outputs": [
    {
     "name": "stdout",
     "output_type": "stream",
     "text": [
      "7 18\n",
      "4 6\n"
     ]
    },
    {
     "data": {
      "text/plain": [
       "24"
      ]
     },
     "execution_count": 30,
     "metadata": {},
     "output_type": "execute_result"
    }
   ],
   "source": [
    "a.count_numbers('857',very_good_numbers,3,same)"
   ]
  },
  {
   "cell_type": "code",
   "execution_count": null,
   "id": "99db5ad8",
   "metadata": {},
   "outputs": [],
   "source": []
  }
 ],
 "metadata": {
  "kernelspec": {
   "display_name": "Python 3",
   "language": "python",
   "name": "python3"
  },
  "language_info": {
   "codemirror_mode": {
    "name": "ipython",
    "version": 3
   },
   "file_extension": ".py",
   "mimetype": "text/x-python",
   "name": "python",
   "nbconvert_exporter": "python",
   "pygments_lexer": "ipython3",
   "version": "3.7.10"
  },
  "toc": {
   "base_numbering": 1,
   "nav_menu": {},
   "number_sections": true,
   "sideBar": true,
   "skip_h1_title": false,
   "title_cell": "Table of Contents",
   "title_sidebar": "Contents",
   "toc_cell": true,
   "toc_position": {},
   "toc_section_display": true,
   "toc_window_display": true
  }
 },
 "nbformat": 4,
 "nbformat_minor": 5
}
