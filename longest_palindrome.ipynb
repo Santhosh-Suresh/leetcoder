{
 "cells": [
  {
   "cell_type": "markdown",
   "id": "c310dc7c",
   "metadata": {
    "toc": true
   },
   "source": [
    "<h1>Table of Contents<span class=\"tocSkip\"></span></h1>\n",
    "<div class=\"toc\"><ul class=\"toc-item\"></ul></div>"
   ]
  },
  {
   "cell_type": "code",
   "execution_count": 4,
   "id": "898681ef",
   "metadata": {
    "ExecuteTime": {
     "end_time": "2021-05-08T08:17:13.300908Z",
     "start_time": "2021-05-08T08:17:13.291914Z"
    }
   },
   "outputs": [],
   "source": [
    "class Solution:\n",
    "    def longestPalindrome(self, s: str) -> str:\n",
    "        k = 1 # length of the longest palindrome until \n",
    "        ans = s[-1] #the longest palindrome so far\n",
    "        j = len(s) # s[i:j] is the longest palindrome starting at i\n",
    "        \n",
    "        for i in range(len(s)-1,-1,-1):\n",
    "            j = self.isPalindromeStart(s,i,j)\n",
    "            if (j-i)>k:\n",
    "                ans = s[i:j]\n",
    "                k = (j-i)\n",
    "            \n",
    "        return ans\n",
    "    \n",
    "    def isPalindromeStart(self, s,i, j):\n",
    "        #Returns longest palindrome starting from s[i], knowing that s[i+1,j] is a palindrome\n",
    "        if (j< len(s)) and s[i]==s[j]:\n",
    "            return j+1\n",
    "        for k in range(j,i,-1):\n",
    "            if self.isPalindrome(s[i:k]):\n",
    "                return k\n",
    "        return (i+1)\n",
    "    \n",
    "    def isPalindrome(self, s):\n",
    "        n = len(s)\n",
    "        for i in range(n//2):\n",
    "            if s[i]!=s[n-1-i]:\n",
    "                return False\n",
    "        return True"
   ]
  },
  {
   "cell_type": "code",
   "execution_count": 5,
   "id": "d272b65d",
   "metadata": {
    "ExecuteTime": {
     "end_time": "2021-05-08T08:17:13.908498Z",
     "start_time": "2021-05-08T08:17:13.891511Z"
    }
   },
   "outputs": [],
   "source": [
    "a = Solution()"
   ]
  },
  {
   "cell_type": "code",
   "execution_count": 8,
   "id": "bf74c3c8",
   "metadata": {
    "ExecuteTime": {
     "end_time": "2021-05-08T08:17:21.024522Z",
     "start_time": "2021-05-08T08:17:21.019529Z"
    }
   },
   "outputs": [
    {
     "data": {
      "text/plain": [
       "True"
      ]
     },
     "execution_count": 8,
     "metadata": {},
     "output_type": "execute_result"
    }
   ],
   "source": [
    "a.isPalindrome(\"3333\")"
   ]
  },
  {
   "cell_type": "code",
   "execution_count": 12,
   "id": "53636ce7",
   "metadata": {
    "ExecuteTime": {
     "end_time": "2021-05-08T08:18:17.429557Z",
     "start_time": "2021-05-08T08:18:17.419577Z"
    }
   },
   "outputs": [
    {
     "data": {
      "text/plain": [
       "6"
      ]
     },
     "execution_count": 12,
     "metadata": {},
     "output_type": "execute_result"
    }
   ],
   "source": [
    "a.isPalindromeStart(\"332233\",0,5)"
   ]
  },
  {
   "cell_type": "code",
   "execution_count": 14,
   "id": "19199dae",
   "metadata": {
    "ExecuteTime": {
     "end_time": "2021-05-08T08:18:52.113605Z",
     "start_time": "2021-05-08T08:18:52.107609Z"
    }
   },
   "outputs": [
    {
     "data": {
      "text/plain": [
       "'332233'"
      ]
     },
     "execution_count": 14,
     "metadata": {},
     "output_type": "execute_result"
    }
   ],
   "source": [
    "a.longestPalindrome(\"332233\")"
   ]
  },
  {
   "cell_type": "code",
   "execution_count": 15,
   "id": "5ef35c3a",
   "metadata": {
    "ExecuteTime": {
     "end_time": "2021-05-08T08:18:57.465599Z",
     "start_time": "2021-05-08T08:18:57.452592Z"
    }
   },
   "outputs": [],
   "source": [
    "s = \"okfzopfdxngrcukpqwmgyfbwzkqegoglsqszdihswhcnwaajuiagxscrwoicsdvyowbowaddignjgsjrhhhookusgnykutrkpogmvruwdkpjucslsoluhnooysjichvobriksbanovvynfwtooygdtflnchtgcycjiziytrhsomevozdxxbiwiuxrhxtyefogphgavlhbvdjpcosexyrmphcyuhqymnzkngqyitzekwimveydjrxkhvhckqcjetpmhxzisdlkhmotwcgejllzdmfwrbpzuxcawgamamkziewwqnxpvyhvmzulivwrngrsnarsmeunbpbnnvvlxllvniskaerpawflwfdozfsmovvjtymsgnvmfepidyffwjxpvpgwceukgfplqcyccejatqqmefquirgztnyawkruasuitnjldxgmmqzzvwltetjyenbicgabtnkpfdcanggcensptcgyyygnkbvcgmvzichisofakajqtsfogqewegawcjtylxavxdxdznzyxyvvupnwfxogyjmbayeminbzthyidymnmuoevrgfbdpodbdrznmosuispnmimrglgrkdrdsjmyacfmuntvgpjaginmyknawgonibhifpyhqoswyefidrtsqgwqviseayzxqwgelgtnvxlrdhpnuhxhianiqjiyygagwwmyklszbyhcykhejijhnfmrsagsbfthmzmzractm\""
   ]
  },
  {
   "cell_type": "code",
   "execution_count": 16,
   "id": "98a4745c",
   "metadata": {
    "ExecuteTime": {
     "end_time": "2021-05-08T08:19:02.122604Z",
     "start_time": "2021-05-08T08:19:02.107613Z"
    }
   },
   "outputs": [
    {
     "data": {
      "text/plain": [
       "'rglgr'"
      ]
     },
     "execution_count": 16,
     "metadata": {},
     "output_type": "execute_result"
    }
   ],
   "source": [
    "a.longestPalindrome(s)"
   ]
  },
  {
   "cell_type": "code",
   "execution_count": null,
   "id": "5830679b",
   "metadata": {},
   "outputs": [],
   "source": []
  }
 ],
 "metadata": {
  "kernelspec": {
   "display_name": "Python 3",
   "language": "python",
   "name": "python3"
  },
  "language_info": {
   "codemirror_mode": {
    "name": "ipython",
    "version": 3
   },
   "file_extension": ".py",
   "mimetype": "text/x-python",
   "name": "python",
   "nbconvert_exporter": "python",
   "pygments_lexer": "ipython3",
   "version": "3.7.10"
  },
  "toc": {
   "base_numbering": 1,
   "nav_menu": {},
   "number_sections": true,
   "sideBar": true,
   "skip_h1_title": false,
   "title_cell": "Table of Contents",
   "title_sidebar": "Contents",
   "toc_cell": true,
   "toc_position": {},
   "toc_section_display": true,
   "toc_window_display": true
  }
 },
 "nbformat": 4,
 "nbformat_minor": 5
}
