{
 "cells": [
  {
   "cell_type": "code",
   "execution_count": 1,
   "metadata": {},
   "outputs": [],
   "source": [
    "import pandas as pd\n",
    "import numpy as np\n",
    "import matplotlib.pyplot as plt \n",
    "import seaborn as sns"
   ]
  },
  {
   "cell_type": "code",
   "execution_count": 43,
   "metadata": {},
   "outputs": [],
   "source": [
    "class Solution: \n",
    "    \n",
    "    def scope_this_queen(self, matrix, i, j):\n",
    "        \"\"\"\n",
    "        return the matrix where we add a queen at i,j, and this flushes all the affected squares \n",
    "        by this queen to 1 from 0. \n",
    "        \"\"\"\n",
    "        new_matrix = [[matrix[i][j] for j in range(8)] for i in range(8)]\n",
    "        for k in range(8):\n",
    "            if k != j:\n",
    "                new_matrix[i][k] = 1\n",
    "            if k != i:\n",
    "                new_matrix[k][j] = 1\n",
    "        \n",
    "        ki, kj = i-1, j-1 \n",
    "        while (ki >= 0) & (kj >=0): \n",
    "            new_matrix[ki][kj] = 1 \n",
    "            ki = ki-1\n",
    "            kj = kj-1\n",
    "        \n",
    "        ki, kj = i+1, j+1 \n",
    "        while (ki <= 7) & (kj <=7): \n",
    "            new_matrix[ki][kj] = 1 \n",
    "            ki = ki+1\n",
    "            kj = kj+1\n",
    "            \n",
    "        ki, kj = i+1, j-1 \n",
    "        while (ki <= 7) & (kj >=0): \n",
    "            new_matrix[ki][kj] = 1 \n",
    "            ki = ki+1\n",
    "            kj = kj-1\n",
    "        \n",
    "        ki, kj = i-1, j+1 \n",
    "        while (ki >= 0) & (kj <= 7): \n",
    "            new_matrix[ki][kj] = 1 \n",
    "            ki = ki-1\n",
    "            kj = kj+1\n",
    "        \n",
    "        return new_matrix\n",
    "        \n",
    "    def backtracker(self, matrix, n) : \n",
    "        \"\"\"\n",
    "        matrix ->  List [List [int]] -- 0, if a queen can be placted \n",
    "        n -> number of queens left to place \n",
    "        return -1 or solution matrix --> -1 if it doesn't work, otherwise it sends out a matrix \n",
    "        \"\"\"\n",
    "        if n == 0: \n",
    "            return matrix        \n",
    "        i = 8 - n \n",
    "        for j in range(8):\n",
    "            if matrix[i][j] == 0: \n",
    "                new_matrix = self.scope_this_queen(matrix,i,j)\n",
    "                soln = self.backtracker(new_matrix,n-1)\n",
    "                if soln == -1:\n",
    "                    continue\n",
    "                else: \n",
    "                    return soln \n",
    "        return -1 "
   ]
  },
  {
   "cell_type": "code",
   "execution_count": 44,
   "metadata": {},
   "outputs": [],
   "source": [
    "a = Solution()"
   ]
  },
  {
   "cell_type": "code",
   "execution_count": 45,
   "metadata": {},
   "outputs": [
    {
     "data": {
      "text/plain": [
       "[[0, 1, 1, 1, 1, 1, 1, 1],\n",
       " [1, 1, 1, 1, 0, 1, 1, 1],\n",
       " [1, 1, 1, 1, 1, 1, 1, 0],\n",
       " [1, 1, 1, 1, 1, 0, 1, 1],\n",
       " [1, 1, 0, 1, 1, 1, 1, 1],\n",
       " [1, 1, 1, 1, 1, 1, 0, 1],\n",
       " [1, 0, 1, 1, 1, 1, 1, 1],\n",
       " [1, 1, 1, 0, 1, 1, 1, 1]]"
      ]
     },
     "execution_count": 45,
     "metadata": {},
     "output_type": "execute_result"
    }
   ],
   "source": [
    "a.backtracker(matrix,8)"
   ]
  },
  {
   "cell_type": "code",
   "execution_count": 47,
   "metadata": {},
   "outputs": [],
   "source": [
    "# the above solution works! Yay! "
   ]
  },
  {
   "cell_type": "code",
   "execution_count": 46,
   "metadata": {},
   "outputs": [
    {
     "data": {
      "text/plain": [
       "'\\nWe assume the following specificiations of here\\nEach call of function takes a number n, and a matrix of n x n, with 0s and 1s.\\nThe 0s represents places a Queen cannot exist. \\n\\nWe further assume that we are going to be methodical about the rows for this problem, \\nalthough this can be relaxed under the general backtracking case. i.e., each level in the back tracker\\ngoes exactly 1 row. i.e., if n = 8, we go to row 0. n=1, we go to row 7\\n\\nThe algorithm is greedy. We will apply the first valid slot (i.e., first available 0), \\n    then adjust the affected squares and then send it through to the next back-tracker. \\n    \\nIf we arrive at n=0, then this is a valid solution, then the function returns and its done. \\nElse, we would have to keep going on the for loop to the next available 0 square. \\n    - If no 0 square is available in that row, then we return -1 as that path is invalid. \\n    \\n\\nFurther, each time we allocate a queen in a particular 0 slot, we assume that it is axiomatically correct, \\ni.e., no need to double check if there\\'s a 2 in the \"affected\" slots. If there\\'s a 1, \\nthat\\'s ok as double counting of 1 is permissive. \\n\\n'"
      ]
     },
     "execution_count": 46,
     "metadata": {},
     "output_type": "execute_result"
    }
   ],
   "source": [
    "\"\"\"\n",
    "We assume the following specificiations of here\n",
    "Each call of function takes a number n, and a matrix of n x n, with 0s and 1s.\n",
    "The 0s represents places a Queen cannot exist. \n",
    "\n",
    "We further assume that we are going to be methodical about the rows for this problem, \n",
    "although this can be relaxed under the general backtracking case. i.e., each level in the back tracker\n",
    "goes exactly 1 row. i.e., if n = 8, we go to row 0. n=1, we go to row 7\n",
    "\n",
    "The algorithm is greedy. We will apply the first valid slot (i.e., first available 0), \n",
    "    then adjust the affected squares and then send it through to the next back-tracker. \n",
    "    \n",
    "If we arrive at n=0, then this is a valid solution, then the function returns and its done. \n",
    "Else, we would have to keep going on the for loop to the next available 0 square. \n",
    "    - If no 0 square is available in that row, then we return -1 as that path is invalid. \n",
    "    \n",
    "\n",
    "Further, each time we allocate a queen in a particular 0 slot, we assume that it is axiomatically correct, \n",
    "i.e., no need to double check if there's a 2 in the \"affected\" slots. If there's a 1, \n",
    "that's ok as double counting of 1 is permissive. \n",
    "\n",
    "\"\"\""
   ]
  },
  {
   "cell_type": "code",
   "execution_count": null,
   "metadata": {},
   "outputs": [],
   "source": []
  }
 ],
 "metadata": {
  "kernelspec": {
   "display_name": "Python 3",
   "language": "python",
   "name": "python3"
  },
  "language_info": {
   "codemirror_mode": {
    "name": "ipython",
    "version": 3
   },
   "file_extension": ".py",
   "mimetype": "text/x-python",
   "name": "python",
   "nbconvert_exporter": "python",
   "pygments_lexer": "ipython3",
   "version": "3.7.6"
  }
 },
 "nbformat": 4,
 "nbformat_minor": 4
}
