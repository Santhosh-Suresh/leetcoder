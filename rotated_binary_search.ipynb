{
 "cells": [
  {
   "cell_type": "code",
   "execution_count": 7,
   "metadata": {},
   "outputs": [],
   "source": [
    "class Solution(object):\n",
    "    def search(self, nums, target):\n",
    "        \"\"\"\n",
    "        :type nums: List[int]\n",
    "        :type target: int\n",
    "        :rtype: int\n",
    "        \"\"\"        \n",
    "\n",
    "        def rotated_binary_search(nums, target): \n",
    "            print(\"rotated:\", nums)\n",
    "            #Corner cases \n",
    "            if not nums: \n",
    "                return -1\n",
    "            if nums[0] == target: \n",
    "                return 0 \n",
    "            elif len(nums) == 1:\n",
    "                return -1 \n",
    "            elif nums[-1] == target:\n",
    "                return len(nums) -1 \n",
    "            \n",
    "            #Let's define the pivot as the index of the lowest number in the array (k) in the question\n",
    "\n",
    "            m = len(nums)//2 \n",
    "            #since len(nums) >= 2, m+1 is an valid index \n",
    "            print(\"m identified as: \", m)\n",
    "\n",
    "            if nums[m]== target:\n",
    "                return m\n",
    "\n",
    "            if nums[m] > nums[0] :\n",
    "                #the pivot k is in [m+1, m+2, ... ,n-1,0]\n",
    "                if (target < nums[0]) | (target  > nums[m]): \n",
    "                    #this means target could exist between indices inclusive [m+1, len(nums))\n",
    "                    ans = rotated_binary_search(nums[m:], target)\n",
    "                    if ans == -1:\n",
    "                        return -1\n",
    "                    else:\n",
    "                        return m + ans \n",
    "                else: \n",
    "                    #This means that target is inside a regular sorted array of (0,m)\n",
    "                    return binary_search(nums[0:m], target)\n",
    "            else: \n",
    "                #this means pivot is k is in [1, 2, ...., m] -- note that it includes m but does not include 0. \n",
    "                if (target > nums [0])  | (target < nums[m]):\n",
    "                    #this means that target is inside of indices (0,m), which is a \"rotated array\"\n",
    "                    return rotated_binary_search(nums[:m],target)\n",
    "                else:\n",
    "                    #this means that target may be  in indices (m+1,len(nums)), which is a regular sorted array\n",
    "                    ans = binary_search(nums[m:], target)\n",
    "                    if ans == -1:\n",
    "                        return -1\n",
    "                    else: \n",
    "                        return m +ans                \n",
    "            \n",
    "\n",
    "        #This function is a regular binary search as if it was a ascending array \n",
    "        def binary_search(nums, target):\n",
    "            print(\"regular:\", nums)\n",
    "            #Corner cases\n",
    "            if not nums: \n",
    "                return -1\n",
    "            if len(nums) == 1:\n",
    "                return 0 if nums[0] ==target else -1 \n",
    "            if nums[0] == target: \n",
    "                return 0 \n",
    "            elif nums[-1] == target:\n",
    "                return len(nums) -1 \n",
    "            \n",
    "\n",
    "            #Actual binary search, pretty standard approach \n",
    "            m= len(nums)//2\n",
    "            print(\"m identified as: \", m)\n",
    "            if nums[m] == target:\n",
    "                return m \n",
    "            elif nums [m] < target:\n",
    "                # since we are using recursive approach, if the answer is -1, we should preserve that it doesn't exist \n",
    "                ans = binary_search(nums[m:], target)\n",
    "                if ans == -1:\n",
    "                    return -1 \n",
    "                else: \n",
    "                    return m + ans \n",
    "            else:\n",
    "                return binary_search(nums[:m], target)\n",
    "\n",
    "        \n",
    "        return rotated_binary_search(nums, target)\n"
   ]
  },
  {
   "cell_type": "code",
   "execution_count": 8,
   "metadata": {},
   "outputs": [],
   "source": [
    "a = Solution()"
   ]
  },
  {
   "cell_type": "code",
   "execution_count": 9,
   "metadata": {},
   "outputs": [],
   "source": [
    "target = 208"
   ]
  },
  {
   "cell_type": "code",
   "execution_count": 10,
   "metadata": {},
   "outputs": [],
   "source": [
    "nums = [266,267,268,269,271,278,282,292,293,298,6,9,15,19,21,26,33,35,37,38,39,46,49,54,65,71,74,77,79,82,83,88,92,93,94,97,104,108,114,115,117,122,123,127,128,129,134,137,141,142,144,147,150,154,160,163,166,169,172,173,177,180,183,184,188,198,203,208,210,214,218,220,223,224,233,236,241,243,253,256,257,262,263]"
   ]
  },
  {
   "cell_type": "code",
   "execution_count": 11,
   "metadata": {},
   "outputs": [
    {
     "name": "stdout",
     "output_type": "stream",
     "text": [
      "rotated: [266, 267, 268, 269, 271, 278, 282, 292, 293, 298, 6, 9, 15, 19, 21, 26, 33, 35, 37, 38, 39, 46, 49, 54, 65, 71, 74, 77, 79, 82, 83, 88, 92, 93, 94, 97, 104, 108, 114, 115, 117, 122, 123, 127, 128, 129, 134, 137, 141, 142, 144, 147, 150, 154, 160, 163, 166, 169, 172, 173, 177, 180, 183, 184, 188, 198, 203, 208, 210, 214, 218, 220, 223, 224, 233, 236, 241, 243, 253, 256, 257, 262, 263]\n",
      "m identified as:  41\n",
      "regular: [122, 123, 127, 128, 129, 134, 137, 141, 142, 144, 147, 150, 154, 160, 163, 166, 169, 172, 173, 177, 180, 183, 184, 188, 198, 203, 208, 210, 214, 218, 220, 223, 224, 233, 236, 241, 243, 253, 256, 257, 262, 263]\n",
      "m identified as:  21\n",
      "regular: [184, 188, 198, 203, 208, 210, 214, 218, 220, 223, 224, 233, 236, 241, 243, 253, 256, 257, 262, 263]\n",
      "m identified as:  10\n",
      "regular: [184, 188, 198, 203, 208, 210, 214, 218, 220, 223]\n",
      "m identified as:  5\n",
      "regular: [184, 188, 198, 203, 208]\n"
     ]
    },
    {
     "data": {
      "text/plain": [
       "66"
      ]
     },
     "execution_count": 11,
     "metadata": {},
     "output_type": "execute_result"
    }
   ],
   "source": [
    "a.search(nums, target)"
   ]
  },
  {
   "cell_type": "code",
   "execution_count": 12,
   "metadata": {},
   "outputs": [
    {
     "data": {
      "text/plain": [
       "83"
      ]
     },
     "execution_count": 12,
     "metadata": {},
     "output_type": "execute_result"
    }
   ],
   "source": [
    "len(nums)"
   ]
  },
  {
   "cell_type": "code",
   "execution_count": null,
   "metadata": {},
   "outputs": [],
   "source": []
  }
 ],
 "metadata": {
  "kernelspec": {
   "display_name": "Python 3",
   "language": "python",
   "name": "python3"
  },
  "language_info": {
   "codemirror_mode": {
    "name": "ipython",
    "version": 3
   },
   "file_extension": ".py",
   "mimetype": "text/x-python",
   "name": "python",
   "nbconvert_exporter": "python",
   "pygments_lexer": "ipython3",
   "version": "3.7.6"
  }
 },
 "nbformat": 4,
 "nbformat_minor": 4
}
