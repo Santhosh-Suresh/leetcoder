{
 "cells": [
  {
   "cell_type": "code",
   "execution_count": 99,
   "metadata": {},
   "outputs": [
    {
     "name": "stdout",
     "output_type": "stream",
     "text": [
      "['bob,689,1910,barcelona', 'bob,832,1726,barcelona', 'bob,820,596,bangkok']\n"
     ]
    }
   ],
   "source": [
    "transactions=[\"bob,689,1910,barcelona\",\"alex,696,122,bangkok\",\"bob,832,1726,barcelona\",\"bob,820,596,bangkok\",\"chalicefy,217,669,barcelona\",\"bob,175,221,amsterdam\"]\n",
    "\n",
    "l = list(map(lambda x:x.split(','),transactions))\n",
    "l = sorted(l, key= lambda x: x[0])\n",
    "ans = set()\n",
    "n = len(l)\n",
    "for i, row in enumerate(l):\n",
    "    if int(row[2])>1000:\n",
    "        ans.add(i)\n",
    "    for j in range(i+1,n):\n",
    "        if (l[j][0] != row[0]):\n",
    "            break\n",
    "        if ((l[j][3]!=row[3]) and\n",
    "             (abs(int(l[j][1])-int(row[1]))<=60)):\n",
    "            ans.add(i)\n",
    "            ans.add(j)\n",
    "\n",
    "final = []\n",
    "for i in ans:\n",
    "    final.append(','.join(l[i]))\n",
    "\n",
    "print(final)"
   ]
  },
  {
   "cell_type": "code",
   "execution_count": null,
   "metadata": {},
   "outputs": [],
   "source": []
  }
 ],
 "metadata": {
  "kernelspec": {
   "display_name": "Python 3",
   "language": "python",
   "name": "python3"
  },
  "language_info": {
   "codemirror_mode": {
    "name": "ipython",
    "version": 3
   },
   "file_extension": ".py",
   "mimetype": "text/x-python",
   "name": "python",
   "nbconvert_exporter": "python",
   "pygments_lexer": "ipython3",
   "version": "3.7.6"
  }
 },
 "nbformat": 4,
 "nbformat_minor": 4
}
