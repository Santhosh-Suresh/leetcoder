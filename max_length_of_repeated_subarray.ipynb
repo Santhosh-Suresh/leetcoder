{
 "cells": [
  {
   "cell_type": "code",
   "execution_count": 1,
   "metadata": {
    "ExecuteTime": {
     "end_time": "2021-04-24T09:11:38.566719Z",
     "start_time": "2021-04-24T09:11:38.556724Z"
    }
   },
   "outputs": [],
   "source": [
    "from typing import List"
   ]
  },
  {
   "cell_type": "code",
   "execution_count": 23,
   "metadata": {
    "ExecuteTime": {
     "end_time": "2021-04-24T09:15:20.568638Z",
     "start_time": "2021-04-24T09:15:20.554659Z"
    },
    "code_folding": [
     1,
     26
    ]
   },
   "outputs": [],
   "source": [
    "class Solution:\n",
    "    def findLength(self, nums1: List[int], nums2: List[int]) -> int:\n",
    "        n1 = len(nums1)\n",
    "        n2 = len(nums2)\n",
    "        \n",
    "        if n1 > n2:\n",
    "            n1, n2 = n2, n1\n",
    "            nums1, nums2 = nums2, nums1\n",
    "        \n",
    "        ans = 0 #The best possible length so far \n",
    "        end_l = -1 # index of s1 where the longest substring so far ends\n",
    "        curr = 0 #substrings of up s1 are considered so far \n",
    "        \n",
    "        \n",
    "        while (curr < n1):\n",
    "            new_L = self.findLengthEndingAt(nums1[:(curr+1)], nums2)\n",
    "            #longest sublist ending at curr \n",
    "            \n",
    "            \n",
    "            if  new_L > ans:\n",
    "                ans = new_L\n",
    "                \n",
    "            #print(curr, new_L, ans)\n",
    "            curr += 1 \n",
    "                \n",
    "        return ans \n",
    "    def findLengthEndingAt(self, s1, s2):\n",
    "        \"\"\"\n",
    "        return the length of the longest possible sublist of s1 that is also a sublist of s2, and this sublist ends at s1[-1]\n",
    "        \"\"\"\n",
    "        n1 = len(s1)\n",
    "        ans = 0 \n",
    "        for i in range(n1):\n",
    "            if self.finder(s1[n1-i-1:], s2):\n",
    "                ans +=1\n",
    "            else:\n",
    "                return ans \n",
    "        return ans \n",
    "                \n",
    "    def finder(self, s1, s2):\n",
    "        \"\"\"\n",
    "        Return true if s1 is a sublist present in s2, such that s1[-1] is the last element of the sublist \n",
    "        \"\"\"\n",
    "        n = len(s1)\n",
    "        if len(s2)< n:\n",
    "            return False\n",
    "        for i in range(n, len(s2)+1):\n",
    "            if s1 == s2[i-(n):i]:\n",
    "                return True\n",
    "        else:\n",
    "            return False            "
   ]
  },
  {
   "cell_type": "code",
   "execution_count": 24,
   "metadata": {
    "ExecuteTime": {
     "end_time": "2021-04-24T09:15:21.411447Z",
     "start_time": "2021-04-24T09:15:21.402466Z"
    }
   },
   "outputs": [],
   "source": [
    "a = Solution()"
   ]
  },
  {
   "cell_type": "code",
   "execution_count": 13,
   "metadata": {
    "ExecuteTime": {
     "end_time": "2021-04-24T09:13:46.942657Z",
     "start_time": "2021-04-24T09:13:46.937653Z"
    }
   },
   "outputs": [],
   "source": [
    "s1= [0,0,0,0,0]\n",
    "s2 = [0,0,0,0,0]"
   ]
  },
  {
   "cell_type": "code",
   "execution_count": 25,
   "metadata": {
    "ExecuteTime": {
     "end_time": "2021-04-24T09:15:22.688646Z",
     "start_time": "2021-04-24T09:15:22.673659Z"
    }
   },
   "outputs": [
    {
     "data": {
      "text/plain": [
       "True"
      ]
     },
     "execution_count": 25,
     "metadata": {},
     "output_type": "execute_result"
    }
   ],
   "source": [
    "a.finder(s1,s2)"
   ]
  },
  {
   "cell_type": "code",
   "execution_count": 22,
   "metadata": {
    "ExecuteTime": {
     "end_time": "2021-04-24T09:15:01.798021Z",
     "start_time": "2021-04-24T09:15:01.786028Z"
    }
   },
   "outputs": [
    {
     "name": "stdout",
     "output_type": "stream",
     "text": [
      "5\n"
     ]
    }
   ],
   "source": [
    "n = len(s1)\n",
    "print(n)"
   ]
  },
  {
   "cell_type": "code",
   "execution_count": 18,
   "metadata": {
    "ExecuteTime": {
     "end_time": "2021-04-24T09:14:15.007668Z",
     "start_time": "2021-04-24T09:14:15.002672Z"
    }
   },
   "outputs": [
    {
     "data": {
      "text/plain": [
       "True"
      ]
     },
     "execution_count": 18,
     "metadata": {},
     "output_type": "execute_result"
    }
   ],
   "source": [
    "s1 == s2[0:5]"
   ]
  },
  {
   "cell_type": "code",
   "execution_count": 28,
   "metadata": {
    "ExecuteTime": {
     "end_time": "2021-04-24T09:19:42.609556Z",
     "start_time": "2021-04-24T09:19:42.602546Z"
    }
   },
   "outputs": [],
   "source": [
    "class Solution(object):\n",
    "    def findLength(self, A, B):\n",
    "        memo = [[0] * (len(B) + 1) for _ in range(len(A) + 1)]\n",
    "        print(memo)\n",
    "        for i in range(len(A) - 1, -1, -1):\n",
    "            for j in range(len(B) - 1, -1, -1):\n",
    "                if A[i] == B[j]:\n",
    "                    memo[i][j] = memo[i+1][j+1]+1\n",
    "        return max(max(row) for row in memo)"
   ]
  },
  {
   "cell_type": "code",
   "execution_count": 29,
   "metadata": {
    "ExecuteTime": {
     "end_time": "2021-04-24T09:19:43.965312Z",
     "start_time": "2021-04-24T09:19:43.956317Z"
    }
   },
   "outputs": [],
   "source": [
    "a = Solution()"
   ]
  },
  {
   "cell_type": "code",
   "execution_count": 30,
   "metadata": {
    "ExecuteTime": {
     "end_time": "2021-04-24T09:19:50.008271Z",
     "start_time": "2021-04-24T09:19:49.994279Z"
    }
   },
   "outputs": [
    {
     "name": "stdout",
     "output_type": "stream",
     "text": [
      "[[0, 0, 0, 0, 0, 0], [0, 0, 0, 0, 0, 0], [0, 0, 0, 0, 0, 0], [0, 0, 0, 0, 0, 0], [0, 0, 0, 0, 0, 0], [0, 0, 0, 0, 0, 0]]\n"
     ]
    },
    {
     "data": {
      "text/plain": [
       "5"
      ]
     },
     "execution_count": 30,
     "metadata": {},
     "output_type": "execute_result"
    }
   ],
   "source": [
    "a.findLength(s1,s2)"
   ]
  },
  {
   "cell_type": "code",
   "execution_count": null,
   "metadata": {},
   "outputs": [],
   "source": []
  }
 ],
 "metadata": {
  "kernelspec": {
   "display_name": "Python 3",
   "language": "python",
   "name": "python3"
  },
  "language_info": {
   "codemirror_mode": {
    "name": "ipython",
    "version": 3
   },
   "file_extension": ".py",
   "mimetype": "text/x-python",
   "name": "python",
   "nbconvert_exporter": "python",
   "pygments_lexer": "ipython3",
   "version": "3.7.6"
  }
 },
 "nbformat": 4,
 "nbformat_minor": 4
}
